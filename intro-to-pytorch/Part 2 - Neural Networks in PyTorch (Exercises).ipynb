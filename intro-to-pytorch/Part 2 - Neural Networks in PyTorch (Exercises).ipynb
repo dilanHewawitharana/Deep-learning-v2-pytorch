{
 "cells": [
  {
   "cell_type": "markdown",
   "metadata": {},
   "source": [
    "# Neural networks with PyTorch\n",
    "\n",
    "Deep learning networks tend to be massive with dozens or hundreds of layers, that's where the term \"deep\" comes from. You can build one of these deep networks using only weight matrices as we did in the previous notebook, but in general it's very cumbersome and difficult to implement. PyTorch has a nice module `nn` that provides a nice way to efficiently build large neural networks."
   ]
  },
  {
   "cell_type": "code",
   "execution_count": 2,
   "metadata": {},
   "outputs": [],
   "source": [
    "# Import necessary packages\n",
    "\n",
    "%matplotlib inline\n",
    "%config InlineBackend.figure_format = 'retina'\n",
    "\n",
    "import numpy as np\n",
    "import torch\n",
    "\n",
    "import helper\n",
    "\n",
    "import matplotlib.pyplot as plt"
   ]
  },
  {
   "cell_type": "markdown",
   "metadata": {},
   "source": [
    "\n",
    "Now we're going to build a larger network that can solve a (formerly) difficult problem, identifying text in an image. Here we'll use the MNIST dataset which consists of greyscale handwritten digits. Each image is 28x28 pixels, you can see a sample below\n",
    "\n",
    "<img src='assets/mnist.png'>\n",
    "\n",
    "Our goal is to build a neural network that can take one of these images and predict the digit in the image.\n",
    "\n",
    "First up, we need to get our dataset. This is provided through the `torchvision` package. The code below will download the MNIST dataset, then create training and test datasets for us. Don't worry too much about the details here, you'll learn more about this later."
   ]
  },
  {
   "cell_type": "code",
   "execution_count": 3,
   "metadata": {},
   "outputs": [],
   "source": [
    "### Run this cell\n",
    "\n",
    "from torchvision import datasets, transforms\n",
    "\n",
    "# Define a transform to normalize the data\n",
    "transform = transforms.Compose([transforms.ToTensor(),\n",
    "                              transforms.Normalize((0.5,), (0.5,)),\n",
    "                              ])\n",
    "\n",
    "# Download and load the training data\n",
    "trainset = datasets.MNIST('~/.pytorch/MNIST_data/', download=True, train=True, transform=transform)\n",
    "trainloader = torch.utils.data.DataLoader(trainset, batch_size=64, shuffle=True)"
   ]
  },
  {
   "cell_type": "markdown",
   "metadata": {},
   "source": [
    "We have the training data loaded into `trainloader` and we make that an iterator with `iter(trainloader)`. Later, we'll use this to loop through the dataset for training, like\n",
    "\n",
    "```python\n",
    "for image, label in trainloader:\n",
    "    ## do things with images and labels\n",
    "```\n",
    "\n",
    "You'll notice I created the `trainloader` with a batch size of 64, and `shuffle=True`. The batch size is the number of images we get in one iteration from the data loader and pass through our network, often called a *batch*. And `shuffle=True` tells it to shuffle the dataset every time we start going through the data loader again. But here I'm just grabbing the first batch so we can check out the data. We can see below that `images` is just a tensor with size `(64, 1, 28, 28)`. So, 64 images per batch, 1 color channel, and 28x28 images."
   ]
  },
  {
   "cell_type": "code",
   "execution_count": 4,
   "metadata": {},
   "outputs": [
    {
     "name": "stdout",
     "output_type": "stream",
     "text": [
      "<class 'torch.Tensor'>\n",
      "torch.Size([64, 1, 28, 28])\n",
      "torch.Size([64])\n"
     ]
    }
   ],
   "source": [
    "dataiter = iter(trainloader)\n",
    "images, labels = dataiter.next()\n",
    "print(type(images))\n",
    "print(images.shape)\n",
    "print(labels.shape)"
   ]
  },
  {
   "cell_type": "markdown",
   "metadata": {},
   "source": [
    "This is what one of the images looks like. "
   ]
  },
  {
   "cell_type": "code",
   "execution_count": 5,
   "metadata": {},
   "outputs": [
    {
     "data": {
      "image/png": "[encoded data removed]",
      "text/plain": [
       "<Figure size 432x288 with 1 Axes>"
      ]
     },
     "metadata": {
      "image/png": {
       "height": 248,
       "width": 251
      },
      "needs_background": "light"
     },
     "output_type": "display_data"
    }
   ],
   "source": [
    "plt.imshow(images[1].numpy().squeeze(), cmap='Greys_r');"
   ]
  },
  {
   "cell_type": "markdown",
   "metadata": {},
   "source": [
    "First, let's try to build a simple network for this dataset using weight matrices and matrix multiplications. Then, we'll see how to do it using PyTorch's `nn` module which provides a much more convenient and powerful method for defining network architectures.\n",
    "\n",
    "The networks you've seen so far are called *fully-connected* or *dense* networks. Each unit in one layer is connected to each unit in the next layer. In fully-connected networks, the input to each layer must be a one-dimensional vector (which can be stacked into a 2D tensor as a batch of multiple examples). However, our images are 28x28 2D tensors, so we need to convert them into 1D vectors. Thinking about sizes, we need to convert the batch of images with shape `(64, 1, 28, 28)` to a have a shape of `(64, 784)`, 784 is 28 times 28. This is typically called *flattening*, we flattened the 2D images into 1D vectors.\n",
    "\n",
    "Previously you built a network with one output unit. Here we need 10 output units, one for each digit. We want our network to predict the digit shown in an image, so what we'll do is calculate probabilities that the image is of any one digit or class. This ends up being a discrete probability distribution over the classes (digits) that tells us the most likely class for the image. That means we need 10 output units for the 10 classes (digits). We'll see how to convert the network output into a probability distribution next.\n",
    "\n",
    "> **Exercise:** Flatten the batch of images `images`. Then build a multi-layer network with 784 input units, 256 hidden units, and 10 output units using random tensors for the weights and biases. For now, use a sigmoid activation for the hidden layer. Leave the output layer without an activation, we'll add one that gives us a probability distribution next."
   ]
  },
  {
   "cell_type": "code",
   "execution_count": 6,
   "metadata": {},
   "outputs": [
    {
     "name": "stdout",
     "output_type": "stream",
     "text": [
      "torch.Size([64, 10])\n",
      "tensor([[6.5517e-01, 1.0000e+00, 6.8968e-10, 1.8959e-05, 3.1360e-03, 3.5230e-08,\n",
      "         7.3476e-05, 8.7377e-01, 4.5139e-04, 7.2122e-06],\n",
      "        [9.9592e-01, 1.0000e+00, 1.2617e-04, 2.9253e-04, 4.3006e-02, 1.5728e-01,\n",
      "         3.6585e-02, 5.3508e-02, 4.8705e-01, 1.2317e-11],\n",
      "        [9.9998e-01, 1.0000e+00, 7.2106e-08, 8.3194e-08, 3.0350e-01, 2.1427e-05,\n",
      "         9.6781e-01, 1.0000e+00, 8.5106e-01, 1.6216e-06],\n",
      "        [9.9753e-01, 1.0000e+00, 1.1009e-06, 1.8238e-08, 1.0329e-03, 4.1234e-05,\n",
      "         9.0266e-01, 5.8885e-01, 4.0598e-01, 1.6969e-09],\n",
      "        [9.2095e-01, 1.0000e+00, 1.1998e-05, 1.5905e-01, 3.1646e-03, 1.0434e-06,\n",
      "         9.9989e-01, 8.5008e-01, 4.8285e-01, 3.0533e-05],\n",
      "        [8.1013e-01, 1.0000e+00, 1.8781e-07, 1.4219e-07, 2.3377e-04, 2.3943e-05,\n",
      "         8.3059e-01, 9.5822e-01, 9.7469e-01, 7.5220e-09],\n",
      "        [6.8836e-01, 9.8936e-01, 1.7600e-04, 1.5753e-04, 6.2286e-04, 1.8776e-04,\n",
      "         5.1559e-03, 9.0231e-01, 8.3545e-02, 2.0205e-09],\n",
      "        [9.9996e-01, 9.9974e-01, 4.5767e-07, 3.9252e-10, 3.1025e-04, 2.5134e-06,\n",
      "         2.4591e-01, 9.9999e-01, 4.6146e-01, 2.0949e-05],\n",
      "        [9.5284e-01, 1.0000e+00, 1.6799e-09, 1.0430e-05, 5.5243e-04, 5.0224e-07,\n",
      "         1.0156e-01, 9.9999e-01, 4.9633e-05, 2.7676e-07],\n",
      "        [9.9851e-01, 1.0000e+00, 2.6426e-05, 4.4425e-03, 3.1296e-05, 1.7586e-01,\n",
      "         7.6304e-01, 9.9745e-01, 1.2312e-02, 3.2820e-08],\n",
      "        [9.9941e-01, 1.0000e+00, 1.3923e-09, 9.5754e-08, 2.3607e-06, 4.1032e-07,\n",
      "         4.1054e-01, 9.9968e-01, 1.3731e-03, 2.2830e-04],\n",
      "        [6.9716e-01, 9.9984e-01, 1.7197e-05, 7.4029e-07, 1.4903e-07, 3.9241e-05,\n",
      "         9.6094e-01, 2.3292e-02, 9.9169e-01, 1.4908e-04],\n",
      "        [1.0000e+00, 1.0000e+00, 3.1016e-10, 3.1436e-02, 2.1774e-02, 5.3220e-07,\n",
      "         8.3735e-01, 9.9983e-01, 8.3996e-03, 4.7188e-08],\n",
      "        [1.0000e+00, 9.9835e-01, 1.5262e-09, 3.9221e-03, 5.1049e-06, 4.5517e-07,\n",
      "         1.2858e-03, 8.3333e-01, 1.2894e-01, 4.9946e-07],\n",
      "        [2.4927e-01, 1.0000e+00, 7.9475e-07, 7.0012e-04, 4.3350e-04, 5.0278e-04,\n",
      "         3.7081e-03, 6.8250e-01, 1.8206e-01, 8.8723e-09],\n",
      "        [5.7142e-01, 1.0000e+00, 5.6460e-06, 7.4120e-05, 3.6551e-01, 8.9484e-05,\n",
      "         1.1300e-01, 9.9935e-01, 9.9952e-01, 1.3967e-10],\n",
      "        [3.9919e-01, 9.9993e-01, 9.5764e-06, 5.1081e-04, 2.1291e-04, 1.5798e-03,\n",
      "         4.8030e-03, 8.1569e-01, 9.7652e-01, 1.2402e-10],\n",
      "        [9.9836e-01, 1.0000e+00, 7.2471e-08, 5.3258e-05, 4.1227e-04, 2.3297e-01,\n",
      "         5.8174e-01, 7.2075e-01, 5.5517e-02, 2.2683e-05],\n",
      "        [6.8777e-01, 1.0000e+00, 1.0756e-03, 5.7327e-05, 1.7564e-03, 1.1694e-04,\n",
      "         8.5443e-01, 9.7571e-01, 9.9248e-01, 6.4001e-07],\n",
      "        [9.6877e-01, 9.9206e-01, 6.6892e-08, 4.8460e-05, 1.0025e-04, 1.6222e-05,\n",
      "         4.9280e-03, 9.4978e-01, 1.7379e-01, 3.9260e-09],\n",
      "        [7.0654e-01, 9.9999e-01, 1.0392e-04, 3.2412e-03, 4.2796e-01, 8.7672e-05,\n",
      "         3.5918e-03, 1.8894e-01, 6.3293e-02, 9.2433e-09],\n",
      "        [9.9933e-01, 1.0000e+00, 5.6637e-08, 3.2040e-03, 1.5156e-01, 1.3865e-01,\n",
      "         5.2736e-01, 9.9081e-01, 1.7043e-02, 9.5480e-07],\n",
      "        [9.9993e-01, 1.0000e+00, 1.5239e-07, 1.1001e-03, 1.0575e-05, 9.6769e-07,\n",
      "         2.7110e-01, 9.6172e-01, 4.7237e-03, 2.8329e-05],\n",
      "        [9.9954e-01, 1.0000e+00, 3.4433e-08, 2.7781e-05, 4.6838e-06, 5.7774e-05,\n",
      "         5.6987e-02, 9.9027e-01, 9.6782e-01, 2.7742e-10],\n",
      "        [9.9912e-01, 1.0000e+00, 4.7491e-06, 3.2222e-07, 8.1670e-05, 5.0837e-06,\n",
      "         1.4571e-02, 9.9793e-01, 2.1538e-03, 4.6610e-05],\n",
      "        [9.9916e-01, 9.9982e-01, 7.4009e-05, 7.5818e-06, 3.7003e-06, 3.3478e-01,\n",
      "         1.0000e+00, 2.8624e-01, 4.6225e-01, 1.3537e-07],\n",
      "        [9.6970e-01, 1.0000e+00, 5.1425e-03, 1.6606e-02, 2.2711e-01, 9.3736e-01,\n",
      "         9.9968e-01, 1.0000e+00, 7.6118e-03, 4.2291e-05],\n",
      "        [9.9844e-01, 1.0000e+00, 3.6794e-06, 3.5649e-04, 3.6635e-04, 1.4929e-01,\n",
      "         1.4589e-01, 1.4688e-03, 4.9745e-03, 2.6412e-08],\n",
      "        [1.4346e-01, 9.9991e-01, 6.0361e-10, 2.9764e-06, 7.9346e-07, 2.7452e-06,\n",
      "         1.1747e-03, 1.0540e-01, 4.3945e-03, 1.9325e-06],\n",
      "        [1.0000e+00, 1.0000e+00, 1.6344e-08, 1.2810e-03, 2.7430e-03, 1.9177e-03,\n",
      "         9.9259e-01, 9.9962e-01, 3.0172e-01, 1.4149e-05],\n",
      "        [3.5155e-01, 9.9999e-01, 2.2897e-05, 6.0060e-09, 1.3914e-03, 3.9306e-08,\n",
      "         5.6499e-03, 9.9617e-01, 9.5449e-01, 9.0199e-12],\n",
      "        [9.9366e-01, 1.0000e+00, 7.1279e-03, 3.2441e-02, 1.1473e-05, 5.7592e-02,\n",
      "         6.5827e-02, 9.9998e-01, 3.0507e-07, 8.5282e-04],\n",
      "        [1.0000e+00, 1.0000e+00, 4.3601e-05, 2.0309e-05, 1.0319e-05, 7.1452e-02,\n",
      "         8.8630e-01, 9.9875e-01, 2.5134e-03, 1.8224e-11],\n",
      "        [4.5426e-01, 1.0000e+00, 2.3779e-05, 5.9882e-06, 1.0417e-01, 2.7470e-02,\n",
      "         9.8796e-01, 9.9912e-01, 1.7746e-03, 1.5643e-05],\n",
      "        [6.7009e-01, 9.9969e-01, 2.2842e-05, 4.0270e-03, 9.0795e-04, 3.2096e-09,\n",
      "         3.6866e-03, 7.4218e-01, 5.2877e-03, 3.8928e-04],\n",
      "        [9.9494e-01, 9.9992e-01, 6.4892e-05, 5.0978e-07, 7.3015e-03, 3.2869e-05,\n",
      "         9.4979e-01, 9.9332e-01, 3.6514e-01, 1.1221e-08],\n",
      "        [2.2681e-01, 1.0000e+00, 6.2613e-06, 1.3127e-01, 7.0526e-01, 5.1323e-06,\n",
      "         5.5987e-01, 7.6426e-01, 2.5874e-04, 2.0180e-06],\n",
      "        [1.0000e+00, 9.9997e-01, 4.3475e-06, 1.9700e-04, 6.1745e-02, 2.7450e-03,\n",
      "         2.3548e-04, 9.1761e-01, 9.8342e-01, 2.1984e-07],\n",
      "        [9.9735e-01, 1.0000e+00, 9.5047e-02, 2.0503e-07, 5.5279e-01, 1.3774e-06,\n",
      "         5.7500e-02, 3.3077e-01, 1.1784e-03, 2.0029e-12],\n",
      "        [7.9124e-01, 9.7535e-01, 1.5857e-07, 7.3176e-07, 1.5876e-05, 4.0181e-06,\n",
      "         8.9790e-01, 9.8796e-01, 5.2821e-01, 2.1238e-08],\n",
      "        [9.9993e-01, 9.9999e-01, 1.4058e-07, 1.1167e-04, 4.5641e-03, 8.4199e-01,\n",
      "         9.8944e-01, 1.0000e+00, 2.0284e-05, 2.7053e-08],\n",
      "        [8.3105e-01, 1.0000e+00, 9.9413e-02, 1.8625e-04, 7.1770e-03, 6.6238e-04,\n",
      "         1.9696e-01, 9.9999e-01, 7.6907e-01, 2.3859e-10],\n",
      "        [9.9821e-01, 9.7963e-01, 5.8265e-10, 2.8748e-07, 3.9404e-03, 1.2294e-07,\n",
      "         4.1703e-02, 9.9997e-01, 3.7467e-01, 2.3665e-08],\n",
      "        [9.7920e-01, 1.0000e+00, 6.2383e-04, 1.8469e-04, 2.5924e-05, 1.3457e-04,\n",
      "         9.0930e-01, 9.9976e-01, 3.0479e-04, 1.6841e-08],\n",
      "        [9.9956e-01, 1.0000e+00, 1.1828e-07, 7.0414e-05, 8.0931e-05, 8.6851e-04,\n",
      "         3.0986e-02, 1.0000e+00, 3.1260e-01, 3.1522e-05],\n",
      "        [2.4552e-01, 1.0000e+00, 5.1287e-08, 1.4935e-07, 3.4854e-02, 3.1494e-06,\n",
      "         4.0090e-01, 1.0000e+00, 9.5683e-01, 7.6403e-07],\n",
      "        [9.5681e-01, 1.0000e+00, 4.1420e-05, 5.1815e-08, 3.9705e-03, 1.1099e-06,\n",
      "         2.4352e-04, 9.5354e-01, 5.6384e-02, 1.1466e-07],\n",
      "        [9.9790e-01, 1.0000e+00, 2.1868e-04, 3.2096e-11, 9.5043e-01, 2.9176e-08,\n",
      "         4.8141e-02, 5.4084e-01, 9.8673e-01, 1.1290e-06],\n",
      "        [9.9972e-01, 1.0000e+00, 2.0266e-08, 1.7903e-01, 3.8198e-04, 8.5502e-04,\n",
      "         9.9953e-01, 1.0000e+00, 9.7038e-01, 3.9282e-08],\n",
      "        [9.9996e-01, 9.5770e-01, 6.7181e-08, 4.2915e-03, 1.2173e-06, 1.2961e-01,\n",
      "         9.6385e-01, 9.9953e-01, 6.0269e-01, 8.0390e-10],\n",
      "        [6.1561e-03, 1.0000e+00, 1.1491e-02, 9.1750e-04, 1.4642e-03, 2.3480e-02,\n",
      "         5.5044e-06, 9.0939e-01, 9.9950e-01, 3.1833e-07],\n",
      "        [9.9766e-01, 9.9942e-01, 5.5430e-03, 8.6294e-05, 8.0247e-04, 1.6102e-03,\n",
      "         1.4595e-03, 6.7495e-01, 7.1571e-02, 3.7483e-06],\n",
      "        [9.9997e-01, 9.9999e-01, 3.1125e-07, 2.5980e-06, 3.0451e-03, 2.4052e-01,\n",
      "         2.7521e-07, 2.4609e-01, 1.3816e-03, 1.0186e-05],\n",
      "        [6.3168e-01, 1.0000e+00, 2.7003e-06, 1.3680e-03, 2.3270e-05, 4.3080e-05,\n",
      "         6.0173e-02, 1.2441e-02, 6.7147e-01, 1.0033e-05],\n",
      "        [9.8988e-01, 1.0000e+00, 5.1018e-11, 9.9779e-01, 3.7592e-03, 7.5512e-06,\n",
      "         4.5868e-01, 1.0000e+00, 6.7054e-02, 8.2202e-06],\n",
      "        [8.3973e-01, 9.9996e-01, 3.7247e-04, 2.0049e-05, 2.0393e-01, 1.6276e-07,\n",
      "         6.3473e-05, 1.0000e+00, 3.7166e-01, 1.0268e-09],\n",
      "        [9.9968e-01, 1.0000e+00, 4.9267e-06, 7.9323e-05, 1.5651e-04, 1.0685e-07,\n",
      "         3.6993e-06, 9.8890e-01, 3.4400e-02, 8.6297e-07],\n",
      "        [1.0000e+00, 1.0000e+00, 2.0646e-10, 8.2115e-01, 1.2060e-02, 9.4481e-06,\n",
      "         8.7144e-01, 1.0000e+00, 8.9588e-01, 1.7880e-07],\n",
      "        [9.9999e-01, 1.0000e+00, 3.7376e-03, 1.1481e-04, 2.2385e-07, 3.3486e-03,\n",
      "         7.4958e-01, 9.9947e-01, 2.3942e-04, 2.2542e-05],\n",
      "        [9.9806e-01, 9.9999e-01, 2.2653e-09, 1.9240e-06, 3.2914e-04, 1.3455e-05,\n",
      "         1.8154e-01, 9.9990e-01, 5.9365e-01, 1.3964e-09],\n",
      "        [1.0000e+00, 1.0000e+00, 1.1815e-07, 2.9273e-08, 2.3276e-03, 1.1154e-06,\n",
      "         2.2370e-02, 9.9950e-01, 9.2370e-01, 1.8927e-07],\n",
      "        [9.9925e-01, 1.0000e+00, 1.1057e-07, 3.1031e-02, 1.3659e-03, 1.0285e-03,\n",
      "         1.6067e-01, 1.0000e+00, 9.8453e-01, 6.8593e-05],\n",
      "        [9.9999e-01, 9.9998e-01, 3.8138e-08, 4.5528e-04, 6.0112e-03, 1.3775e-05,\n",
      "         5.6356e-01, 9.9999e-01, 4.6390e-01, 1.0057e-08],\n",
      "        [9.9982e-01, 1.0000e+00, 3.1965e-08, 1.3586e-03, 2.7535e-04, 2.1368e-06,\n",
      "         8.7892e-01, 9.4553e-01, 1.6700e-02, 3.1540e-04]])\n"
     ]
    }
   ],
   "source": [
    "## Your solution\n",
    "def activation(x):\n",
    "    return 1/(1+torch.exp(-x))\n",
    "\n",
    "# Flatten the input images\n",
    "inputs = images.view(images.shape[0], -1)\n",
    "n_input = inputs.shape[1]       # Number of input units, must match number of input features\n",
    "n_hidden = 256                  # Number of hidden units \n",
    "n_output = 10                   # Number of output units\n",
    "\n",
    "W1 = torch.randn(n_input, n_hidden)\n",
    "W2 = torch.randn(n_hidden, n_output)\n",
    "B1 = torch.randn(1, n_hidden)\n",
    "B2 = torch.randn(1, n_output)\n",
    "\n",
    "h1 = activation(torch.mm(inputs,W1)+B1)\n",
    "out = activation(torch.mm(h1,W2)+B2) # output of your network, should have shape (64,10)\n",
    "print(out.shape)\n",
    "print(out)"
   ]
  },
  {
   "cell_type": "markdown",
   "metadata": {},
   "source": [
    "Now we have 10 outputs for our network. We want to pass in an image to our network and get out a probability distribution over the classes that tells us the likely class(es) the image belongs to. Something that looks like this:\n",
    "<img src='assets/image_distribution.png' width=500px>\n",
    "\n",
    "Here we see that the probability for each class is roughly the same. This is representing an untrained network, it hasn't seen any data yet so it just returns a uniform distribution with equal probabilities for each class.\n",
    "\n",
    "To calculate this probability distribution, we often use the [**softmax** function](https://en.wikipedia.org/wiki/Softmax_function). Mathematically this looks like\n",
    "\n",
    "$$\n",
    "\\Large \\sigma(x_i) = \\cfrac{e^{x_i}}{\\sum_k^K{e^{x_k}}}\n",
    "$$\n",
    "\n",
    "What this does is squish each input $x_i$ between 0 and 1 and normalizes the values to give you a proper probability distribution where the probabilites sum up to one.\n",
    "\n",
    "> **Exercise:** Implement a function `softmax` that performs the softmax calculation and returns probability distributions for each example in the batch. Note that you'll need to pay attention to the shapes when doing this. If you have a tensor `a` with shape `(64, 10)` and a tensor `b` with shape `(64,)`, doing `a/b` will give you an error because PyTorch will try to do the division across the columns (called broadcasting) but you'll get a size mismatch. The way to think about this is for each of the 64 examples, you only want to divide by one value, the sum in the denominator. So you need `b` to have a shape of `(64, 1)`. This way PyTorch will divide the 10 values in each row of `a` by the one value in each row of `b`. Pay attention to how you take the sum as well. You'll need to define the `dim` keyword in `torch.sum`. Setting `dim=0` takes the sum across the rows while `dim=1` takes the sum across the columns."
   ]
  },
  {
   "cell_type": "code",
   "execution_count": 7,
   "metadata": {},
   "outputs": [
    {
     "name": "stdout",
     "output_type": "stream",
     "text": [
      "torch.Size([64, 10])\n",
      "tensor([1.0000, 1.0000, 1.0000, 1.0000, 1.0000, 1.0000, 1.0000, 1.0000, 1.0000,\n",
      "        1.0000, 1.0000, 1.0000, 1.0000, 1.0000, 1.0000, 1.0000, 1.0000, 1.0000,\n",
      "        1.0000, 1.0000, 1.0000, 1.0000, 1.0000, 1.0000, 1.0000, 1.0000, 1.0000,\n",
      "        1.0000, 1.0000, 1.0000, 1.0000, 1.0000, 1.0000, 1.0000, 1.0000, 1.0000,\n",
      "        1.0000, 1.0000, 1.0000, 1.0000, 1.0000, 1.0000, 1.0000, 1.0000, 1.0000,\n",
      "        1.0000, 1.0000, 1.0000, 1.0000, 1.0000, 1.0000, 1.0000, 1.0000, 1.0000,\n",
      "        1.0000, 1.0000, 1.0000, 1.0000, 1.0000, 1.0000, 1.0000, 1.0000, 1.0000,\n",
      "        1.0000])\n"
     ]
    }
   ],
   "source": [
    "def softmax(x):\n",
    "    exp_mat = torch.exp(x)\n",
    "    sum_exp_mat = torch.sum(exp_mat, dim=1).view(-1, 1)\n",
    "    return exp_mat/sum_exp_mat\n",
    "\n",
    "# Here, out should be the output of the network in the previous excercise with shape (64,10)\n",
    "probabilities = softmax(out)\n",
    "\n",
    "# Does it have the right shape? Should be (64, 10)\n",
    "print(probabilities.shape)\n",
    "# Does it sum to 1?\n",
    "print(probabilities.sum(dim=1))"
   ]
  },
  {
   "cell_type": "markdown",
   "metadata": {},
   "source": [
    "## Building networks with PyTorch\n",
    "\n",
    "PyTorch provides a module `nn` that makes building networks much simpler. Here I'll show you how to build the same one as above with 784 inputs, 256 hidden units, 10 output units and a softmax output."
   ]
  },
  {
   "cell_type": "code",
   "execution_count": 8,
   "metadata": {},
   "outputs": [],
   "source": [
    "from torch import nn"
   ]
  },
  {
   "cell_type": "code",
   "execution_count": 9,
   "metadata": {},
   "outputs": [],
   "source": [
    "class Network(nn.Module):\n",
    "    def __init__(self):\n",
    "        super().__init__()\n",
    "        \n",
    "        # Inputs to hidden layer linear transformation\n",
    "        self.hidden = nn.Linear(784, 256)\n",
    "        # Output layer, 10 units - one for each digit\n",
    "        self.output = nn.Linear(256, 10)\n",
    "        \n",
    "        # Define sigmoid activation and softmax output \n",
    "        self.sigmoid = nn.Sigmoid()\n",
    "        self.softmax = nn.Softmax(dim=1)\n",
    "        \n",
    "    def forward(self, x):\n",
    "        # Pass the input tensor through each of our operations\n",
    "        x = self.hidden(x)\n",
    "        x = self.sigmoid(x)\n",
    "        x = self.output(x)\n",
    "        x = self.softmax(x)\n",
    "        \n",
    "        return x"
   ]
  },
  {
   "cell_type": "markdown",
   "metadata": {},
   "source": [
    "Let's go through this bit by bit.\n",
    "\n",
    "```python\n",
    "class Network(nn.Module):\n",
    "```\n",
    "\n",
    "Here we're inheriting from `nn.Module`. Combined with `super().__init__()` this creates a class that tracks the architecture and provides a lot of useful methods and attributes. It is mandatory to inherit from `nn.Module` when you're creating a class for your network. The name of the class itself can be anything.\n",
    "\n",
    "```python\n",
    "self.hidden = nn.Linear(784, 256)\n",
    "```\n",
    "\n",
    "This line creates a module for a linear transformation, $x\\mathbf{W} + b$, with 784 inputs and 256 outputs and assigns it to `self.hidden`. The module automatically creates the weight and bias tensors which we'll use in the `forward` method. You can access the weight and bias tensors once the network (`net`) is created with `net.hidden.weight` and `net.hidden.bias`.\n",
    "\n",
    "```python\n",
    "self.output = nn.Linear(256, 10)\n",
    "```\n",
    "\n",
    "Similarly, this creates another linear transformation with 256 inputs and 10 outputs.\n",
    "\n",
    "```python\n",
    "self.sigmoid = nn.Sigmoid()\n",
    "self.softmax = nn.Softmax(dim=1)\n",
    "```\n",
    "\n",
    "Here I defined operations for the sigmoid activation and softmax output. Setting `dim=1` in `nn.Softmax(dim=1)` calculates softmax across the columns.\n",
    "\n",
    "```python\n",
    "def forward(self, x):\n",
    "```\n",
    "\n",
    "PyTorch networks created with `nn.Module` must have a `forward` method defined. It takes in a tensor `x` and passes it through the operations you defined in the `__init__` method.\n",
    "\n",
    "```python\n",
    "x = self.hidden(x)\n",
    "x = self.sigmoid(x)\n",
    "x = self.output(x)\n",
    "x = self.softmax(x)\n",
    "```\n",
    "\n",
    "Here the input tensor `x` is passed through each operation and reassigned to `x`. We can see that the input tensor goes through the hidden layer, then a sigmoid function, then the output layer, and finally the softmax function. It doesn't matter what you name the variables here, as long as the inputs and outputs of the operations match the network architecture you want to build. The order in which you define things in the `__init__` method doesn't matter, but you'll need to sequence the operations correctly in the `forward` method.\n",
    "\n",
    "Now we can create a `Network` object."
   ]
  },
  {
   "cell_type": "code",
   "execution_count": 10,
   "metadata": {},
   "outputs": [
    {
     "data": {
      "text/plain": [
       "Network(\n",
       "  (hidden): Linear(in_features=784, out_features=256, bias=True)\n",
       "  (output): Linear(in_features=256, out_features=10, bias=True)\n",
       "  (sigmoid): Sigmoid()\n",
       "  (softmax): Softmax(dim=1)\n",
       ")"
      ]
     },
     "execution_count": 10,
     "metadata": {},
     "output_type": "execute_result"
    }
   ],
   "source": [
    "# Create the network and look at it's text representation\n",
    "model = Network()\n",
    "model"
   ]
  },
  {
   "cell_type": "markdown",
   "metadata": {},
   "source": [
    "You can define the network somewhat more concisely and clearly using the `torch.nn.functional` module. This is the most common way you'll see networks defined as many operations are simple element-wise functions. We normally import this module as `F`, `import torch.nn.functional as F`."
   ]
  },
  {
   "cell_type": "code",
   "execution_count": 11,
   "metadata": {},
   "outputs": [],
   "source": [
    "import torch.nn.functional as F\n",
    "\n",
    "class Network(nn.Module):\n",
    "    def __init__(self):\n",
    "        super().__init__()\n",
    "        # Inputs to hidden layer linear transformation\n",
    "        self.hidden = nn.Linear(784, 256)\n",
    "        # Output layer, 10 units - one for each digit\n",
    "        self.output = nn.Linear(256, 10)\n",
    "        \n",
    "    def forward(self, x):\n",
    "        # Hidden layer with sigmoid activation\n",
    "        x = F.sigmoid(self.hidden(x))\n",
    "        # Output layer with softmax activation\n",
    "        x = F.softmax(self.output(x), dim=1)\n",
    "        \n",
    "        return x"
   ]
  },
  {
   "cell_type": "markdown",
   "metadata": {},
   "source": [
    "### Activation functions\n",
    "\n",
    "So far we've only been looking at the sigmoid activation function, but in general any function can be used as an activation function. The only requirement is that for a network to approximate a non-linear function, the activation functions must be non-linear. Here are a few more examples of common activation functions: Tanh (hyperbolic tangent), and ReLU (rectified linear unit).\n",
    "\n",
    "<img src=\"assets/activation.png\" width=700px>\n",
    "\n",
    "In practice, the ReLU function is used almost exclusively as the activation function for hidden layers."
   ]
  },
  {
   "cell_type": "markdown",
   "metadata": {},
   "source": [
    "### Your Turn to Build a Network\n",
    "\n",
    "<img src=\"assets/mlp_mnist.png\" width=600px>\n",
    "\n",
    "> **Exercise:** Create a network with 784 input units, a hidden layer with 128 units and a ReLU activation, then a hidden layer with 64 units and a ReLU activation, and finally an output layer with a softmax activation as shown above. You can use a ReLU activation with the `nn.ReLU` module or `F.relu` function.\n",
    "\n",
    "It's good practice to name your layers by their type of network, for instance 'fc' to represent a fully-connected layer. As you code your solution, use `fc1`, `fc2`, and `fc3` as your layer names."
   ]
  },
  {
   "cell_type": "code",
   "execution_count": 12,
   "metadata": {
    "scrolled": true
   },
   "outputs": [
    {
     "data": {
      "text/plain": [
       "Network(\n",
       "  (fc1): Linear(in_features=784, out_features=128, bias=True)\n",
       "  (fc2): Linear(in_features=128, out_features=64, bias=True)\n",
       "  (fc3): Linear(in_features=64, out_features=10, bias=True)\n",
       ")"
      ]
     },
     "execution_count": 12,
     "metadata": {},
     "output_type": "execute_result"
    }
   ],
   "source": [
    "## Your solution here\n",
    "import torch.nn.functional as F\n",
    "\n",
    "class Network(nn.Module):\n",
    "    def __init__(self):\n",
    "        super().__init__()\n",
    "        self.fc1 = nn.Linear(784, 128)\n",
    "        self.fc2 = nn.Linear(128, 64)\n",
    "\n",
    "        self.fc3 = nn.Linear(64, 10)\n",
    "        \n",
    "    def forward(self, x):\n",
    "        x = F.relu(self.fc1(x))\n",
    "        x = F.relu(self.fc2(x))\n",
    "        x = F.softmax(self.fc3(x), dim=1)\n",
    "        \n",
    "        return x\n",
    "\n",
    "model = Network()\n",
    "model"
   ]
  },
  {
   "cell_type": "markdown",
   "metadata": {},
   "source": [
    "### Initializing weights and biases\n",
    "\n",
    "The weights and such are automatically initialized for you, but it's possible to customize how they are initialized. The weights and biases are tensors attached to the layer you defined, you can get them with `model.fc1.weight` for instance."
   ]
  },
  {
   "cell_type": "code",
   "execution_count": 13,
   "metadata": {},
   "outputs": [
    {
     "name": "stdout",
     "output_type": "stream",
     "text": [
      "Parameter containing:\n",
      "tensor([[-0.0241,  0.0301,  0.0028,  ...,  0.0296, -0.0195, -0.0107],\n",
      "        [ 0.0103,  0.0207,  0.0206,  ..., -0.0221,  0.0146, -0.0342],\n",
      "        [-0.0352, -0.0126, -0.0340,  ...,  0.0332, -0.0186,  0.0318],\n",
      "        ...,\n",
      "        [-0.0010, -0.0227,  0.0187,  ..., -0.0007,  0.0061, -0.0031],\n",
      "        [-0.0192,  0.0168,  0.0116,  ...,  0.0059, -0.0270, -0.0217],\n",
      "        [-0.0139,  0.0001, -0.0298,  ..., -0.0145, -0.0247,  0.0210]],\n",
      "       requires_grad=True)\n",
      "Parameter containing:\n",
      "tensor([ 0.0344, -0.0105, -0.0184,  0.0312, -0.0357, -0.0017,  0.0269, -0.0200,\n",
      "        -0.0302, -0.0326,  0.0150,  0.0176, -0.0145,  0.0048, -0.0333,  0.0102,\n",
      "        -0.0310,  0.0106, -0.0029, -0.0219,  0.0234,  0.0353, -0.0128, -0.0349,\n",
      "         0.0147,  0.0199,  0.0145, -0.0162,  0.0167, -0.0287,  0.0103, -0.0121,\n",
      "        -0.0031, -0.0357, -0.0299, -0.0334,  0.0350, -0.0126,  0.0051, -0.0059,\n",
      "         0.0216, -0.0325,  0.0136, -0.0183, -0.0063,  0.0252,  0.0237, -0.0022,\n",
      "        -0.0311, -0.0009,  0.0336,  0.0099, -0.0059, -0.0233, -0.0036,  0.0325,\n",
      "         0.0288,  0.0023, -0.0108, -0.0173,  0.0015,  0.0019, -0.0004, -0.0285,\n",
      "        -0.0346, -0.0306, -0.0228,  0.0178,  0.0027,  0.0072,  0.0090,  0.0268,\n",
      "         0.0204, -0.0049, -0.0199, -0.0335, -0.0295,  0.0215,  0.0262,  0.0350,\n",
      "         0.0225,  0.0097,  0.0146, -0.0306,  0.0331,  0.0340, -0.0274,  0.0173,\n",
      "         0.0071,  0.0281, -0.0178, -0.0326, -0.0121, -0.0221, -0.0330,  0.0147,\n",
      "         0.0181, -0.0345,  0.0305,  0.0100,  0.0298,  0.0253,  0.0156, -0.0279,\n",
      "        -0.0283, -0.0040,  0.0181, -0.0132, -0.0354, -0.0210, -0.0246, -0.0082,\n",
      "         0.0084, -0.0161,  0.0284, -0.0317,  0.0258,  0.0326, -0.0213,  0.0138,\n",
      "        -0.0082,  0.0354, -0.0141,  0.0277,  0.0185,  0.0161, -0.0262, -0.0163],\n",
      "       requires_grad=True)\n"
     ]
    }
   ],
   "source": [
    "print(model.fc1.weight)\n",
    "print(model.fc1.bias)"
   ]
  },
  {
   "cell_type": "markdown",
   "metadata": {},
   "source": [
    "For custom initialization, we want to modify these tensors in place. These are actually autograd *Variables*, so we need to get back the actual tensors with `model.fc1.weight.data`. Once we have the tensors, we can fill them with zeros (for biases) or random normal values."
   ]
  },
  {
   "cell_type": "code",
   "execution_count": 14,
   "metadata": {},
   "outputs": [
    {
     "data": {
      "text/plain": [
       "tensor([0., 0., 0., 0., 0., 0., 0., 0., 0., 0., 0., 0., 0., 0., 0., 0., 0., 0., 0., 0., 0., 0., 0., 0.,\n",
       "        0., 0., 0., 0., 0., 0., 0., 0., 0., 0., 0., 0., 0., 0., 0., 0., 0., 0., 0., 0., 0., 0., 0., 0.,\n",
       "        0., 0., 0., 0., 0., 0., 0., 0., 0., 0., 0., 0., 0., 0., 0., 0., 0., 0., 0., 0., 0., 0., 0., 0.,\n",
       "        0., 0., 0., 0., 0., 0., 0., 0., 0., 0., 0., 0., 0., 0., 0., 0., 0., 0., 0., 0., 0., 0., 0., 0.,\n",
       "        0., 0., 0., 0., 0., 0., 0., 0., 0., 0., 0., 0., 0., 0., 0., 0., 0., 0., 0., 0., 0., 0., 0., 0.,\n",
       "        0., 0., 0., 0., 0., 0., 0., 0.])"
      ]
     },
     "execution_count": 14,
     "metadata": {},
     "output_type": "execute_result"
    }
   ],
   "source": [
    "# Set biases to all zeros\n",
    "model.fc1.bias.data.fill_(0)"
   ]
  },
  {
   "cell_type": "code",
   "execution_count": 15,
   "metadata": {},
   "outputs": [
    {
     "data": {
      "text/plain": [
       "tensor([[-0.0139, -0.0015,  0.0051,  ...,  0.0125, -0.0126,  0.0064],\n",
       "        [-0.0052, -0.0018,  0.0048,  ..., -0.0122, -0.0073, -0.0077],\n",
       "        [-0.0114,  0.0026, -0.0112,  ..., -0.0044,  0.0028, -0.0033],\n",
       "        ...,\n",
       "        [ 0.0107, -0.0024,  0.0027,  ..., -0.0044,  0.0008,  0.0075],\n",
       "        [ 0.0066,  0.0055,  0.0169,  ..., -0.0189,  0.0054, -0.0077],\n",
       "        [-0.0031,  0.0205,  0.0105,  ...,  0.0080,  0.0089,  0.0117]])"
      ]
     },
     "execution_count": 15,
     "metadata": {},
     "output_type": "execute_result"
    }
   ],
   "source": [
    "# sample from random normal with standard dev = 0.01\n",
    "model.fc1.weight.data.normal_(std=0.01)"
   ]
  },
  {
   "cell_type": "markdown",
   "metadata": {},
   "source": [
    "### Forward pass\n",
    "\n",
    "Now that we have a network, let's see what happens when we pass in an image."
   ]
  },
  {
   "cell_type": "code",
   "execution_count": 16,
   "metadata": {},
   "outputs": [
    {
     "data": {
      "image/png": "[encoded data removed]",
      "text/plain": [
       "<Figure size 432x648 with 2 Axes>"
      ]
     },
     "metadata": {
      "image/png": {
       "height": 235,
       "width": 424
      },
      "needs_background": "light"
     },
     "output_type": "display_data"
    }
   ],
   "source": [
    "# Grab some data \n",
    "dataiter = iter(trainloader)\n",
    "images, labels = dataiter.next()\n",
    "\n",
    "# Resize images into a 1D vector, new shape is (batch size, color channels, image pixels) \n",
    "images.resize_(64, 1, 784)\n",
    "# or images.resize_(images.shape[0], 1, 784) to automatically get batch size\n",
    "\n",
    "# Forward pass through the network\n",
    "img_idx = 0\n",
    "ps = model.forward(images[img_idx,:])\n",
    "\n",
    "img = images[img_idx]\n",
    "helper.view_classify(img.view(1, 28, 28), ps)"
   ]
  },
  {
   "cell_type": "markdown",
   "metadata": {},
   "source": [
    "As you can see above, our network has basically no idea what this digit is. It's because we haven't trained it yet, all the weights are random!\n",
    "\n",
    "### Using `nn.Sequential`\n",
    "\n",
    "PyTorch provides a convenient way to build networks like this where a tensor is passed sequentially through operations, `nn.Sequential` ([documentation](https://pytorch.org/docs/master/nn.html#torch.nn.Sequential)). Using this to build the equivalent network:"
   ]
  },
  {
   "cell_type": "code",
   "execution_count": 19,
   "metadata": {},
   "outputs": [
    {
     "name": "stdout",
     "output_type": "stream",
     "text": [
      "Sequential(\n",
      "  (0): Linear(in_features=784, out_features=128, bias=True)\n",
      "  (1): ReLU()\n",
      "  (2): Linear(in_features=128, out_features=64, bias=True)\n",
      "  (3): ReLU()\n",
      "  (4): Linear(in_features=64, out_features=10, bias=True)\n",
      "  (5): Softmax(dim=1)\n",
      ")\n"
     ]
    },
    {
     "data": {
      "image/png": "[encoded data removed]",
      "text/plain": [
       "<Figure size 432x648 with 2 Axes>"
      ]
     },
     "metadata": {
      "image/png": {
       "height": 235,
       "width": 424
      },
      "needs_background": "light"
     },
     "output_type": "display_data"
    }
   ],
   "source": [
    "# Hyperparameters for our network\n",
    "input_size = 784\n",
    "hidden_sizes = [128, 64]\n",
    "output_size = 10\n",
    "\n",
    "# Build a feed-forward network\n",
    "model = nn.Sequential(nn.Linear(input_size, hidden_sizes[0]),\n",
    "                      nn.ReLU(),\n",
    "                      nn.Linear(hidden_sizes[0], hidden_sizes[1]),\n",
    "                      nn.ReLU(),\n",
    "                      nn.Linear(hidden_sizes[1], output_size),\n",
    "                      nn.Softmax(dim=1))\n",
    "print(model)\n",
    "\n",
    "# Forward pass through the network and display output\n",
    "images, labels = next(iter(trainloader))\n",
    "images.resize_(images.shape[0], 1, 784)\n",
    "ps = model.forward(images[0,:])\n",
    "helper.view_classify(images[0].view(1, 28, 28), ps)"
   ]
  },
  {
   "cell_type": "markdown",
   "metadata": {},
   "source": [
    "Here our model is the same as before: 784 input units, a hidden layer with 128 units, ReLU activation, 64 unit hidden layer, another ReLU, then the output layer with 10 units, and the softmax output.\n",
    "\n",
    "The operations are available by passing in the appropriate index. For example, if you want to get first Linear operation and look at the weights, you'd use `model[0]`."
   ]
  },
  {
   "cell_type": "code",
   "execution_count": 22,
   "metadata": {},
   "outputs": [
    {
     "name": "stdout",
     "output_type": "stream",
     "text": [
      "Linear(in_features=784, out_features=128, bias=True)\n"
     ]
    },
    {
     "data": {
      "text/plain": [
       "Parameter containing:\n",
       "tensor([[-0.0133, -0.0050,  0.0309,  ...,  0.0295,  0.0003,  0.0036],\n",
       "        [-0.0097, -0.0068,  0.0301,  ..., -0.0062, -0.0007, -0.0238],\n",
       "        [ 0.0066,  0.0305, -0.0300,  ..., -0.0104,  0.0026, -0.0161],\n",
       "        ...,\n",
       "        [-0.0329, -0.0209, -0.0249,  ...,  0.0291,  0.0221,  0.0096],\n",
       "        [ 0.0125,  0.0162, -0.0233,  ..., -0.0268, -0.0111,  0.0081],\n",
       "        [ 0.0108, -0.0254,  0.0211,  ...,  0.0337, -0.0045,  0.0211]],\n",
       "       requires_grad=True)"
      ]
     },
     "execution_count": 22,
     "metadata": {},
     "output_type": "execute_result"
    }
   ],
   "source": [
    "print(model[0])\n",
    "model[0].weight"
   ]
  },
  {
   "cell_type": "markdown",
   "metadata": {},
   "source": [
    "You can also pass in an `OrderedDict` to name the individual layers and operations, instead of using incremental integers. Note that dictionary keys must be unique, so _each operation must have a different name_."
   ]
  },
  {
   "cell_type": "code",
   "execution_count": 23,
   "metadata": {},
   "outputs": [
    {
     "data": {
      "text/plain": [
       "Sequential(\n",
       "  (fc1): Linear(in_features=784, out_features=128, bias=True)\n",
       "  (relu1): ReLU()\n",
       "  (fc2): Linear(in_features=128, out_features=64, bias=True)\n",
       "  (relu2): ReLU()\n",
       "  (output): Linear(in_features=64, out_features=10, bias=True)\n",
       "  (softmax): Softmax(dim=1)\n",
       ")"
      ]
     },
     "execution_count": 23,
     "metadata": {},
     "output_type": "execute_result"
    }
   ],
   "source": [
    "from collections import OrderedDict\n",
    "model = nn.Sequential(OrderedDict([\n",
    "                      ('fc1', nn.Linear(input_size, hidden_sizes[0])),\n",
    "                      ('relu1', nn.ReLU()),\n",
    "                      ('fc2', nn.Linear(hidden_sizes[0], hidden_sizes[1])),\n",
    "                      ('relu2', nn.ReLU()),\n",
    "                      ('output', nn.Linear(hidden_sizes[1], output_size)),\n",
    "                      ('softmax', nn.Softmax(dim=1))]))\n",
    "model"
   ]
  },
  {
   "cell_type": "markdown",
   "metadata": {},
   "source": [
    "Now you can access layers either by integer or the name"
   ]
  },
  {
   "cell_type": "code",
   "execution_count": 24,
   "metadata": {},
   "outputs": [
    {
     "name": "stdout",
     "output_type": "stream",
     "text": [
      "Linear(in_features=784, out_features=128, bias=True)\n",
      "Linear(in_features=784, out_features=128, bias=True)\n"
     ]
    }
   ],
   "source": [
    "print(model[0])\n",
    "print(model.fc1)"
   ]
  },
  {
   "cell_type": "markdown",
   "metadata": {},
   "source": [
    "In the next notebook, we'll see how we can train a neural network to accuractly predict the numbers appearing in the MNIST images."
   ]
  }
 ],
 "metadata": {
  "kernelspec": {
   "display_name": "Python 3",
   "language": "python",
   "name": "python3"
  },
  "language_info": {
   "codemirror_mode": {
    "name": "ipython",
    "version": 3
   },
   "file_extension": ".py",
   "mimetype": "text/x-python",
   "name": "python",
   "nbconvert_exporter": "python",
   "pygments_lexer": "ipython3",
   "version": "3.6.10"
  }
 },
 "nbformat": 4,
 "nbformat_minor": 2
}
