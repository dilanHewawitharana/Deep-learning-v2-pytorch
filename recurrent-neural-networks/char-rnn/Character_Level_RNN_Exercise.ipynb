{
 "cells": [
  {
   "cell_type": "markdown",
   "metadata": {},
   "source": [
    "# Character-Level LSTM in PyTorch\n",
    "\n",
    "In this notebook, I'll construct a character-level LSTM with PyTorch. The network will train character by character on some text, then generate new text character by character. As an example, I will train on Anna Karenina. **This model will be able to generate new text based on the text from the book!**\n",
    "\n",
    "This network is based off of Andrej Karpathy's [post on RNNs](http://karpathy.github.io/2015/05/21/rnn-effectiveness/) and [implementation in Torch](https://github.com/karpathy/char-rnn). Below is the general architecture of the character-wise RNN.\n",
    "\n",
    "<img src=\"assets/charseq.jpeg\" width=\"500\">"
   ]
  },
  {
   "cell_type": "markdown",
   "metadata": {},
   "source": [
    "First let's load in our required resources for data loading and model creation."
   ]
  },
  {
   "cell_type": "code",
   "execution_count": 1,
   "metadata": {},
   "outputs": [],
   "source": [
    "import numpy as np\n",
    "import torch\n",
    "from torch import nn\n",
    "import torch.nn.functional as F"
   ]
  },
  {
   "cell_type": "markdown",
   "metadata": {},
   "source": [
    "## Load in Data\n",
    "\n",
    "Then, we'll load the Anna Karenina text file and convert it into integers for our network to use. "
   ]
  },
  {
   "cell_type": "code",
   "execution_count": 2,
   "metadata": {},
   "outputs": [],
   "source": [
    "# open text file and read in data as `text`\n",
    "with open('data/anna.txt', 'r') as f:\n",
    "    text = f.read()"
   ]
  },
  {
   "cell_type": "markdown",
   "metadata": {},
   "source": [
    "Let's check out the first 100 characters, make sure everything is peachy. According to the [American Book Review](http://americanbookreview.org/100bestlines.asp), this is the 6th best first line of a book ever."
   ]
  },
  {
   "cell_type": "code",
   "execution_count": 3,
   "metadata": {},
   "outputs": [
    {
     "data": {
      "text/plain": [
       "'Chapter 1\\n\\n\\nHappy families are all alike; every unhappy family is unhappy in its own\\nway.\\n\\nEverythin'"
      ]
     },
     "execution_count": 3,
     "metadata": {},
     "output_type": "execute_result"
    }
   ],
   "source": [
    "text[:100]"
   ]
  },
  {
   "cell_type": "markdown",
   "metadata": {},
   "source": [
    "### Tokenization\n",
    "\n",
    "In the cells, below, I'm creating a couple **dictionaries** to convert the characters to and from integers. Encoding the characters as integers makes it easier to use as input in the network."
   ]
  },
  {
   "cell_type": "code",
   "execution_count": 4,
   "metadata": {},
   "outputs": [],
   "source": [
    "# encode the text and map each character to an integer and vice versa\n",
    "\n",
    "# we create two dictionaries:\n",
    "# 1. int2char, which maps integers to characters\n",
    "# 2. char2int, which maps characters to unique integers\n",
    "chars = tuple(set(text))\n",
    "int2char = dict(enumerate(chars))\n",
    "char2int = {ch: ii for ii, ch in int2char.items()}\n",
    "\n",
    "# encode the text\n",
    "encoded = np.array([char2int[ch] for ch in text])"
   ]
  },
  {
   "cell_type": "markdown",
   "metadata": {},
   "source": [
    "And we can see those same characters from above, encoded as integers."
   ]
  },
  {
   "cell_type": "code",
   "execution_count": 5,
   "metadata": {},
   "outputs": [
    {
     "data": {
      "text/plain": [
       "array([13, 51, 20, 70, 17, 62, 47,  8, 71, 38, 38, 38, 49, 20, 70, 70, 72,\n",
       "        8, 44, 20, 34, 80, 37, 80, 62, 25,  8, 20, 47, 62,  8, 20, 37, 37,\n",
       "        8, 20, 37, 80, 36, 62, 82,  8, 62,  6, 62, 47, 72,  8, 21, 79, 51,\n",
       "       20, 70, 70, 72,  8, 44, 20, 34, 80, 37, 72,  8, 80, 25,  8, 21, 79,\n",
       "       51, 20, 70, 70, 72,  8, 80, 79,  8, 80, 17, 25,  8, 42, 22, 79, 38,\n",
       "       22, 20, 72,  0, 38, 38,  5,  6, 62, 47, 72, 17, 51, 80, 79])"
      ]
     },
     "execution_count": 5,
     "metadata": {},
     "output_type": "execute_result"
    }
   ],
   "source": [
    "encoded[:100]"
   ]
  },
  {
   "cell_type": "markdown",
   "metadata": {},
   "source": [
    "## Pre-processing the data\n",
    "\n",
    "As you can see in our char-RNN image above, our LSTM expects an input that is **one-hot encoded** meaning that each character is converted into an integer (via our created dictionary) and *then* converted into a column vector where only it's corresponding integer index will have the value of 1 and the rest of the vector will be filled with 0's. Since we're one-hot encoding the data, let's make a function to do that!\n"
   ]
  },
  {
   "cell_type": "code",
   "execution_count": 6,
   "metadata": {},
   "outputs": [],
   "source": [
    "def one_hot_encode(arr, n_labels):\n",
    "    \n",
    "    # Initialize the the encoded array\n",
    "    one_hot = np.zeros((arr.size, n_labels), dtype=np.float32)\n",
    "    \n",
    "    # Fill the appropriate elements with ones\n",
    "    one_hot[np.arange(one_hot.shape[0]), arr.flatten()] = 1.\n",
    "    \n",
    "    # Finally reshape it to get back to the original array\n",
    "    one_hot = one_hot.reshape((*arr.shape, n_labels))\n",
    "    \n",
    "    return one_hot"
   ]
  },
  {
   "cell_type": "code",
   "execution_count": 7,
   "metadata": {},
   "outputs": [
    {
     "name": "stdout",
     "output_type": "stream",
     "text": [
      "[[[0. 0. 0. 1. 0. 0. 0. 0.]\n",
      "  [0. 0. 0. 0. 0. 1. 0. 0.]\n",
      "  [0. 1. 0. 0. 0. 0. 0. 0.]]]\n"
     ]
    }
   ],
   "source": [
    "# check that the function works as expected\n",
    "test_seq = np.array([[3, 5, 1]])\n",
    "one_hot = one_hot_encode(test_seq, 8)\n",
    "\n",
    "print(one_hot)"
   ]
  },
  {
   "cell_type": "markdown",
   "metadata": {},
   "source": [
    "## Making training mini-batches\n",
    "\n",
    "\n",
    "To train on this data, we also want to create mini-batches for training. Remember that we want our batches to be multiple sequences of some desired number of sequence steps. Considering a simple example, our batches would look like this:\n",
    "\n",
    "<img src=\"assets/sequence_batching@1x.png\" width=500px>\n",
    "\n",
    "\n",
    "<br>\n",
    "\n",
    "In this example, we'll take the encoded characters (passed in as the `arr` parameter) and split them into multiple sequences, given by `batch_size`. Each of our sequences will be `seq_length` long.\n",
    "\n",
    "### Creating Batches\n",
    "\n",
    "**1. The first thing we need to do is discard some of the text so we only have completely full mini-batches. **\n",
    "\n",
    "Each batch contains $N \\times M$ characters, where $N$ is the batch size (the number of sequences in a batch) and $M$ is the seq_length or number of time steps in a sequence. Then, to get the total number of batches, $K$, that we can make from the array `arr`, you divide the length of `arr` by the number of characters per batch. Once you know the number of batches, you can get the total number of characters to keep from `arr`, $N * M * K$.\n",
    "\n",
    "**2. After that, we need to split `arr` into $N$ batches. ** \n",
    "\n",
    "You can do this using `arr.reshape(size)` where `size` is a tuple containing the dimensions sizes of the reshaped array. We know we want $N$ sequences in a batch, so let's make that the size of the first dimension. For the second dimension, you can use `-1` as a placeholder in the size, it'll fill up the array with the appropriate data for you. After this, you should have an array that is $N \\times (M * K)$.\n",
    "\n",
    "**3. Now that we have this array, we can iterate through it to get our mini-batches. **\n",
    "\n",
    "The idea is each batch is a $N \\times M$ window on the $N \\times (M * K)$ array. For each subsequent batch, the window moves over by `seq_length`. We also want to create both the input and target arrays. Remember that the targets are just the inputs shifted over by one character. The way I like to do this window is use `range` to take steps of size `n_steps` from $0$ to `arr.shape[1]`, the total number of tokens in each sequence. That way, the integers you get from `range` always point to the start of a batch, and each window is `seq_length` wide.\n",
    "\n",
    "> **TODO:** Write the code for creating batches in the function below. The exercises in this notebook _will not be easy_. I've provided a notebook with solutions alongside this notebook. If you get stuck, checkout the solutions. The most important thing is that you don't copy and paste the code into here, **type out the solution code yourself.**"
   ]
  },
  {
   "cell_type": "code",
   "execution_count": 8,
   "metadata": {},
   "outputs": [],
   "source": [
    "def get_batches(arr, batch_size, seq_length):\n",
    "    '''Create a generator that returns batches of size\n",
    "       batch_size x seq_length from arr.\n",
    "       \n",
    "       Arguments\n",
    "       ---------\n",
    "       arr: Array you want to make batches from\n",
    "       batch_size: Batch size, the number of sequences per batch\n",
    "       seq_length: Number of encoded chars in a sequence\n",
    "    '''\n",
    "    \n",
    "    ## TODO: Get the number of batches we can make\n",
    "    batch_size_total = batch_size * seq_length\n",
    "    n_batches = len(arr)//batch_size_total\n",
    "    \n",
    "    ## TODO: Keep only enough characters to make full batches\n",
    "    arr = arr[:n_batches * batch_size_total]\n",
    "    \n",
    "    ## TODO: Reshape into batch_size rows\n",
    "    arr = arr.reshape((batch_size, -1))\n",
    "    \n",
    "    ## TODO: Iterate over the batches using a window of size seq_length\n",
    "    for n in range(0, arr.shape[1], seq_length):\n",
    "        # The features\n",
    "        x = arr[:, n:n+seq_length]\n",
    "        # The targets, shifted by one\n",
    "        y = np.zeros_like(x)\n",
    "        try:\n",
    "            y[:, :-1], y[:, -1] = x[:, 1:], arr[:, n+seq_length]\n",
    "        except IndexError:\n",
    "            y[:, :-1], y[:, -1] = x[:, 1:], arr[:, 0]\n",
    "        yield x, y"
   ]
  },
  {
   "cell_type": "markdown",
   "metadata": {},
   "source": [
    "### Test Your Implementation\n",
    "\n",
    "Now I'll make some data sets and we can check out what's going on as we batch data. Here, as an example, I'm going to use a batch size of 8 and 50 sequence steps."
   ]
  },
  {
   "cell_type": "code",
   "execution_count": 9,
   "metadata": {},
   "outputs": [],
   "source": [
    "batches = get_batches(encoded, 8, 50)\n",
    "x, y = next(batches)"
   ]
  },
  {
   "cell_type": "code",
   "execution_count": 10,
   "metadata": {},
   "outputs": [
    {
     "name": "stdout",
     "output_type": "stream",
     "text": [
      "x\n",
      " [[13 51 20 70 17 62 47  8 71 38]\n",
      " [25 42 79  8 17 51 20 17  8 20]\n",
      " [62 79 59  8 42 47  8 20  8 44]\n",
      " [25  8 17 51 62  8 45 51 80 62]\n",
      " [ 8 25 20 22  8 51 62 47  8 17]\n",
      " [45 21 25 25 80 42 79  8 20 79]\n",
      " [ 8 11 79 79 20  8 51 20 59  8]\n",
      " [15 56 37 42 79 25 36 72  0  8]]\n",
      "\n",
      "y\n",
      " [[51 20 70 17 62 47  8 71 38 38]\n",
      " [42 79  8 17 51 20 17  8 20 17]\n",
      " [79 59  8 42 47  8 20  8 44 42]\n",
      " [ 8 17 51 62  8 45 51 80 62 44]\n",
      " [25 20 22  8 51 62 47  8 17 62]\n",
      " [21 25 25 80 42 79  8 20 79 59]\n",
      " [11 79 79 20  8 51 20 59  8 25]\n",
      " [56 37 42 79 25 36 72  0  8 52]]\n"
     ]
    }
   ],
   "source": [
    "# printing out the first 10 items in a sequence\n",
    "print('x\\n', x[:10, :10])\n",
    "print('\\ny\\n', y[:10, :10])"
   ]
  },
  {
   "cell_type": "markdown",
   "metadata": {},
   "source": [
    "If you implemented `get_batches` correctly, the above output should look something like \n",
    "```\n",
    "x\n",
    " [[25  8 60 11 45 27 28 73  1  2]\n",
    " [17  7 20 73 45  8 60 45 73 60]\n",
    " [27 20 80 73  7 28 73 60 73 65]\n",
    " [17 73 45  8 27 73 66  8 46 27]\n",
    " [73 17 60 12 73  8 27 28 73 45]\n",
    " [66 64 17 17 46  7 20 73 60 20]\n",
    " [73 76 20 20 60 73  8 60 80 73]\n",
    " [47 35 43  7 20 17 24 50 37 73]]\n",
    "\n",
    "y\n",
    " [[ 8 60 11 45 27 28 73  1  2  2]\n",
    " [ 7 20 73 45  8 60 45 73 60 45]\n",
    " [20 80 73  7 28 73 60 73 65  7]\n",
    " [73 45  8 27 73 66  8 46 27 65]\n",
    " [17 60 12 73  8 27 28 73 45 27]\n",
    " [64 17 17 46  7 20 73 60 20 80]\n",
    " [76 20 20 60 73  8 60 80 73 17]\n",
    " [35 43  7 20 17 24 50 37 73 36]]\n",
    " ```\n",
    " although the exact numbers may be different. Check to make sure the data is shifted over one step for `y`."
   ]
  },
  {
   "cell_type": "markdown",
   "metadata": {},
   "source": [
    "---\n",
    "## Defining the network with PyTorch\n",
    "\n",
    "Below is where you'll define the network.\n",
    "\n",
    "<img src=\"assets/charRNN.png\" width=500px>\n",
    "\n",
    "Next, you'll use PyTorch to define the architecture of the network. We start by defining the layers and operations we want. Then, define a method for the forward pass. You've also been given a method for predicting characters."
   ]
  },
  {
   "cell_type": "markdown",
   "metadata": {},
   "source": [
    "### Model Structure\n",
    "\n",
    "In `__init__` the suggested structure is as follows:\n",
    "* Create and store the necessary dictionaries (this has been done for you)\n",
    "* Define an LSTM layer that takes as params: an input size (the number of characters), a hidden layer size `n_hidden`, a number of layers `n_layers`, a dropout probability `drop_prob`, and a batch_first boolean (True, since we are batching)\n",
    "* Define a dropout layer with `drop_prob`\n",
    "* Define a fully-connected layer with params: input size `n_hidden` and output size (the number of characters)\n",
    "* Finally, initialize the weights (again, this has been given)\n",
    "\n",
    "Note that some parameters have been named and given in the `__init__` function, and we use them and store them by doing something like `self.drop_prob = drop_prob`."
   ]
  },
  {
   "cell_type": "markdown",
   "metadata": {},
   "source": [
    "---\n",
    "### LSTM Inputs/Outputs\n",
    "\n",
    "You can create a basic [LSTM layer](https://pytorch.org/docs/stable/nn.html#lstm) as follows\n",
    "\n",
    "```python\n",
    "self.lstm = nn.LSTM(input_size, n_hidden, n_layers, \n",
    "                            dropout=drop_prob, batch_first=True)\n",
    "```\n",
    "\n",
    "where `input_size` is the number of characters this cell expects to see as sequential input, and `n_hidden` is the number of units in the hidden layers in the cell. And we can add dropout by adding a dropout parameter with a specified probability; this will automatically add dropout to the inputs or outputs. Finally, in the `forward` function, we can stack up the LSTM cells into layers using `.view`. With this, you pass in a list of cells and it will send the output of one cell into the next cell.\n",
    "\n",
    "We also need to create an initial hidden state of all zeros. This is done like so\n",
    "\n",
    "```python\n",
    "self.init_hidden()\n",
    "```"
   ]
  },
  {
   "cell_type": "code",
   "execution_count": 11,
   "metadata": {},
   "outputs": [
    {
     "name": "stdout",
     "output_type": "stream",
     "text": [
      "Training on GPU!\n"
     ]
    }
   ],
   "source": [
    "# check if GPU is available\n",
    "train_on_gpu = torch.cuda.is_available()\n",
    "if(train_on_gpu):\n",
    "    print('Training on GPU!')\n",
    "else: \n",
    "    print('No GPU available, training on CPU; consider making n_epochs very small.')"
   ]
  },
  {
   "cell_type": "code",
   "execution_count": 13,
   "metadata": {},
   "outputs": [],
   "source": [
    "class CharRNN(nn.Module):\n",
    "    \n",
    "    def __init__(self, tokens, n_hidden=256, n_layers=2,\n",
    "                               drop_prob=0.5, lr=0.001):\n",
    "        super().__init__()\n",
    "        self.drop_prob = drop_prob\n",
    "        self.n_layers = n_layers\n",
    "        self.n_hidden = n_hidden\n",
    "        self.lr = lr\n",
    "        \n",
    "        # creating character dictionaries\n",
    "        self.chars = tokens\n",
    "        self.int2char = dict(enumerate(self.chars))\n",
    "        self.char2int = {ch: ii for ii, ch in self.int2char.items()}\n",
    "        \n",
    "        ## TODO: define the LSTM\n",
    "        self.lstm = nn.LSTM(len(self.chars), n_hidden, n_layers, \n",
    "                            dropout=drop_prob, batch_first=True)\n",
    "        \n",
    "        ## TODO: define a dropout layer\n",
    "        self.dropout = nn.Dropout(drop_prob)\n",
    "        \n",
    "        ## TODO: define the final, fully-connected output layer\n",
    "        self.fc = nn.Linear(n_hidden, len(self.chars))\n",
    "      \n",
    "    \n",
    "    def forward(self, x, hidden):\n",
    "        ''' Forward pass through the network. \n",
    "            These inputs are x, and the hidden/cell state `hidden`. '''\n",
    "                \n",
    "        ## TODO: Get the outputs and the new hidden state from the lstm\n",
    "        r_output, hidden = self.lstm(x, hidden)\n",
    "        \n",
    "        ## TODO: pass through a dropout layer\n",
    "        out = self.dropout(r_output)\n",
    "        \n",
    "        # Stack up LSTM outputs using view\n",
    "        # you may need to use contiguous to reshape the output\n",
    "        out = out.contiguous().view(-1, self.n_hidden)\n",
    "        \n",
    "        ## TODO: put x through the fully-connected layer\n",
    "        out = self.fc(out)\n",
    "        \n",
    "        # return the final output and the hidden state\n",
    "        return out, hidden\n",
    "    \n",
    "    \n",
    "    def init_hidden(self, batch_size):\n",
    "        ''' Initializes hidden state '''\n",
    "        # Create two new tensors with sizes n_layers x batch_size x n_hidden,\n",
    "        # initialized to zero, for hidden state and cell state of LSTM\n",
    "        weight = next(self.parameters()).data\n",
    "        \n",
    "        if (train_on_gpu):\n",
    "            hidden = (weight.new(self.n_layers, batch_size, self.n_hidden).zero_().cuda(),\n",
    "                  weight.new(self.n_layers, batch_size, self.n_hidden).zero_().cuda())\n",
    "        else:\n",
    "            hidden = (weight.new(self.n_layers, batch_size, self.n_hidden).zero_(),\n",
    "                      weight.new(self.n_layers, batch_size, self.n_hidden).zero_())\n",
    "        \n",
    "        return hidden\n",
    "        "
   ]
  },
  {
   "cell_type": "markdown",
   "metadata": {},
   "source": [
    "## Time to train\n",
    "\n",
    "The train function gives us the ability to set the number of epochs, the learning rate, and other parameters.\n",
    "\n",
    "Below we're using an Adam optimizer and cross entropy loss since we are looking at character class scores as output. We calculate the loss and perform backpropagation, as usual!\n",
    "\n",
    "A couple of details about training: \n",
    ">* Within the batch loop, we detach the hidden state from its history; this time setting it equal to a new *tuple* variable because an LSTM has a hidden state that is a tuple of the hidden and cell states.\n",
    "* We use [`clip_grad_norm_`](https://pytorch.org/docs/stable/_modules/torch/nn/utils/clip_grad.html) to help prevent exploding gradients."
   ]
  },
  {
   "cell_type": "code",
   "execution_count": 14,
   "metadata": {},
   "outputs": [],
   "source": [
    "def train(net, data, epochs=10, batch_size=10, seq_length=50, lr=0.001, clip=5, val_frac=0.1, print_every=10):\n",
    "    ''' Training a network \n",
    "    \n",
    "        Arguments\n",
    "        ---------\n",
    "        \n",
    "        net: CharRNN network\n",
    "        data: text data to train the network\n",
    "        epochs: Number of epochs to train\n",
    "        batch_size: Number of mini-sequences per mini-batch, aka batch size\n",
    "        seq_length: Number of character steps per mini-batch\n",
    "        lr: learning rate\n",
    "        clip: gradient clipping\n",
    "        val_frac: Fraction of data to hold out for validation\n",
    "        print_every: Number of steps for printing training and validation loss\n",
    "    \n",
    "    '''\n",
    "    net.train()\n",
    "    \n",
    "    opt = torch.optim.Adam(net.parameters(), lr=lr)\n",
    "    criterion = nn.CrossEntropyLoss()\n",
    "    \n",
    "    # create training and validation data\n",
    "    val_idx = int(len(data)*(1-val_frac))\n",
    "    data, val_data = data[:val_idx], data[val_idx:]\n",
    "    \n",
    "    if(train_on_gpu):\n",
    "        net.cuda()\n",
    "    \n",
    "    counter = 0\n",
    "    n_chars = len(net.chars)\n",
    "    for e in range(epochs):\n",
    "        # initialize hidden state\n",
    "        h = net.init_hidden(batch_size)\n",
    "        \n",
    "        for x, y in get_batches(data, batch_size, seq_length):\n",
    "            counter += 1\n",
    "            \n",
    "            # One-hot encode our data and make them Torch tensors\n",
    "            x = one_hot_encode(x, n_chars)\n",
    "            inputs, targets = torch.from_numpy(x), torch.from_numpy(y)\n",
    "            \n",
    "            if(train_on_gpu):\n",
    "                inputs, targets = inputs.cuda(), targets.cuda()\n",
    "\n",
    "            # Creating new variables for the hidden state, otherwise\n",
    "            # we'd backprop through the entire training history\n",
    "            h = tuple([each.data for each in h])\n",
    "\n",
    "            # zero accumulated gradients\n",
    "            net.zero_grad()\n",
    "            \n",
    "            # get the output from the model\n",
    "            output, h = net(inputs, h)\n",
    "            \n",
    "            # calculate the loss and perform backprop\n",
    "            loss = criterion(output, targets.view(batch_size*seq_length).long())\n",
    "            loss.backward()\n",
    "            # `clip_grad_norm` helps prevent the exploding gradient problem in RNNs / LSTMs.\n",
    "            nn.utils.clip_grad_norm_(net.parameters(), clip)\n",
    "            opt.step()\n",
    "            \n",
    "            # loss stats\n",
    "            if counter % print_every == 0:\n",
    "                # Get validation loss\n",
    "                val_h = net.init_hidden(batch_size)\n",
    "                val_losses = []\n",
    "                net.eval()\n",
    "                for x, y in get_batches(val_data, batch_size, seq_length):\n",
    "                    # One-hot encode our data and make them Torch tensors\n",
    "                    x = one_hot_encode(x, n_chars)\n",
    "                    x, y = torch.from_numpy(x), torch.from_numpy(y)\n",
    "                    \n",
    "                    # Creating new variables for the hidden state, otherwise\n",
    "                    # we'd backprop through the entire training history\n",
    "                    val_h = tuple([each.data for each in val_h])\n",
    "                    \n",
    "                    inputs, targets = x, y\n",
    "                    if(train_on_gpu):\n",
    "                        inputs, targets = inputs.cuda(), targets.cuda()\n",
    "\n",
    "                    output, val_h = net(inputs, val_h)\n",
    "                    val_loss = criterion(output, targets.view(batch_size*seq_length).long())\n",
    "                \n",
    "                    val_losses.append(val_loss.item())\n",
    "                \n",
    "                net.train() # reset to train mode after iterationg through validation data\n",
    "                \n",
    "                print(\"Epoch: {}/{}...\".format(e+1, epochs),\n",
    "                      \"Step: {}...\".format(counter),\n",
    "                      \"Loss: {:.4f}...\".format(loss.item()),\n",
    "                      \"Val Loss: {:.4f}\".format(np.mean(val_losses)))"
   ]
  },
  {
   "cell_type": "markdown",
   "metadata": {},
   "source": [
    "## Instantiating the model\n",
    "\n",
    "Now we can actually train the network. First we'll create the network itself, with some given hyperparameters. Then, define the mini-batches sizes, and start training!"
   ]
  },
  {
   "cell_type": "code",
   "execution_count": 15,
   "metadata": {},
   "outputs": [
    {
     "name": "stdout",
     "output_type": "stream",
     "text": [
      "CharRNN(\n",
      "  (lstm): LSTM(83, 512, num_layers=2, batch_first=True, dropout=0.5)\n",
      "  (dropout): Dropout(p=0.5, inplace=False)\n",
      "  (fc): Linear(in_features=512, out_features=83, bias=True)\n",
      ")\n"
     ]
    }
   ],
   "source": [
    "## TODO: set your model hyperparameters\n",
    "# define and print the net\n",
    "n_hidden=512\n",
    "n_layers=2\n",
    "\n",
    "net = CharRNN(chars, n_hidden, n_layers)\n",
    "print(net)"
   ]
  },
  {
   "cell_type": "markdown",
   "metadata": {},
   "source": [
    "### Set your training hyperparameters!"
   ]
  },
  {
   "cell_type": "code",
   "execution_count": 16,
   "metadata": {
    "scrolled": true
   },
   "outputs": [
    {
     "name": "stdout",
     "output_type": "stream",
     "text": [
      "Epoch: 1/20... Step: 10... Loss: 3.2800... Val Loss: 3.1981\n",
      "Epoch: 1/20... Step: 20... Loss: 3.1557... Val Loss: 3.1318\n",
      "Epoch: 1/20... Step: 30... Loss: 3.1448... Val Loss: 3.1213\n",
      "Epoch: 1/20... Step: 40... Loss: 3.1120... Val Loss: 3.1192\n",
      "Epoch: 1/20... Step: 50... Loss: 3.1434... Val Loss: 3.1172\n",
      "Epoch: 1/20... Step: 60... Loss: 3.1188... Val Loss: 3.1146\n",
      "Epoch: 1/20... Step: 70... Loss: 3.1032... Val Loss: 3.1115\n",
      "Epoch: 1/20... Step: 80... Loss: 3.1173... Val Loss: 3.1047\n",
      "Epoch: 1/20... Step: 90... Loss: 3.1051... Val Loss: 3.0885\n",
      "Epoch: 1/20... Step: 100... Loss: 3.0600... Val Loss: 3.0462\n",
      "Epoch: 1/20... Step: 110... Loss: 2.9821... Val Loss: 2.9549\n",
      "Epoch: 1/20... Step: 120... Loss: 2.8875... Val Loss: 2.8871\n",
      "Epoch: 1/20... Step: 130... Loss: 2.8117... Val Loss: 2.7605\n",
      "Epoch: 2/20... Step: 140... Loss: 2.7144... Val Loss: 2.6502\n",
      "Epoch: 2/20... Step: 150... Loss: 2.6190... Val Loss: 2.5650\n",
      "Epoch: 2/20... Step: 160... Loss: 2.5556... Val Loss: 2.5104\n",
      "Epoch: 2/20... Step: 170... Loss: 2.4874... Val Loss: 2.4735\n",
      "Epoch: 2/20... Step: 180... Loss: 2.4500... Val Loss: 2.4260\n",
      "Epoch: 2/20... Step: 190... Loss: 2.3971... Val Loss: 2.3996\n",
      "Epoch: 2/20... Step: 200... Loss: 2.4153... Val Loss: 2.3767\n",
      "Epoch: 2/20... Step: 210... Loss: 2.3738... Val Loss: 2.3468\n",
      "Epoch: 2/20... Step: 220... Loss: 2.3295... Val Loss: 2.3160\n",
      "Epoch: 2/20... Step: 230... Loss: 2.3216... Val Loss: 2.2887\n",
      "Epoch: 2/20... Step: 240... Loss: 2.2999... Val Loss: 2.2618\n",
      "Epoch: 2/20... Step: 250... Loss: 2.2419... Val Loss: 2.2344\n",
      "Epoch: 2/20... Step: 260... Loss: 2.2110... Val Loss: 2.2142\n",
      "Epoch: 2/20... Step: 270... Loss: 2.2182... Val Loss: 2.1849\n",
      "Epoch: 3/20... Step: 280... Loss: 2.2101... Val Loss: 2.1649\n",
      "Epoch: 3/20... Step: 290... Loss: 2.1690... Val Loss: 2.1396\n",
      "Epoch: 3/20... Step: 300... Loss: 2.1519... Val Loss: 2.1170\n",
      "Epoch: 3/20... Step: 310... Loss: 2.1201... Val Loss: 2.0962\n",
      "Epoch: 3/20... Step: 320... Loss: 2.0898... Val Loss: 2.0754\n",
      "Epoch: 3/20... Step: 330... Loss: 2.0661... Val Loss: 2.0623\n",
      "Epoch: 3/20... Step: 340... Loss: 2.0802... Val Loss: 2.0425\n",
      "Epoch: 3/20... Step: 350... Loss: 2.0605... Val Loss: 2.0232\n",
      "Epoch: 3/20... Step: 360... Loss: 1.9990... Val Loss: 2.0049\n",
      "Epoch: 3/20... Step: 370... Loss: 2.0239... Val Loss: 1.9875\n",
      "Epoch: 3/20... Step: 380... Loss: 2.0083... Val Loss: 1.9760\n",
      "Epoch: 3/20... Step: 390... Loss: 1.9690... Val Loss: 1.9584\n",
      "Epoch: 3/20... Step: 400... Loss: 1.9425... Val Loss: 1.9386\n",
      "Epoch: 3/20... Step: 410... Loss: 1.9534... Val Loss: 1.9213\n",
      "Epoch: 4/20... Step: 420... Loss: 1.9464... Val Loss: 1.9130\n",
      "Epoch: 4/20... Step: 430... Loss: 1.9270... Val Loss: 1.8933\n",
      "Epoch: 4/20... Step: 440... Loss: 1.9172... Val Loss: 1.8858\n",
      "Epoch: 4/20... Step: 450... Loss: 1.8536... Val Loss: 1.8664\n",
      "Epoch: 4/20... Step: 460... Loss: 1.8462... Val Loss: 1.8568\n",
      "Epoch: 4/20... Step: 470... Loss: 1.8797... Val Loss: 1.8455\n",
      "Epoch: 4/20... Step: 480... Loss: 1.8534... Val Loss: 1.8332\n",
      "Epoch: 4/20... Step: 490... Loss: 1.8635... Val Loss: 1.8259\n",
      "Epoch: 4/20... Step: 500... Loss: 1.8536... Val Loss: 1.8091\n",
      "Epoch: 4/20... Step: 510... Loss: 1.8332... Val Loss: 1.7991\n",
      "Epoch: 4/20... Step: 520... Loss: 1.8447... Val Loss: 1.7846\n",
      "Epoch: 4/20... Step: 530... Loss: 1.8003... Val Loss: 1.7761\n",
      "Epoch: 4/20... Step: 540... Loss: 1.7586... Val Loss: 1.7658\n",
      "Epoch: 4/20... Step: 550... Loss: 1.8044... Val Loss: 1.7546\n",
      "Epoch: 5/20... Step: 560... Loss: 1.7694... Val Loss: 1.7459\n",
      "Epoch: 5/20... Step: 570... Loss: 1.7600... Val Loss: 1.7387\n",
      "Epoch: 5/20... Step: 580... Loss: 1.7370... Val Loss: 1.7258\n",
      "Epoch: 5/20... Step: 590... Loss: 1.7395... Val Loss: 1.7176\n",
      "Epoch: 5/20... Step: 600... Loss: 1.7234... Val Loss: 1.7133\n",
      "Epoch: 5/20... Step: 610... Loss: 1.7049... Val Loss: 1.7020\n",
      "Epoch: 5/20... Step: 620... Loss: 1.7149... Val Loss: 1.6963\n",
      "Epoch: 5/20... Step: 630... Loss: 1.7275... Val Loss: 1.6867\n",
      "Epoch: 5/20... Step: 640... Loss: 1.6925... Val Loss: 1.6808\n",
      "Epoch: 5/20... Step: 650... Loss: 1.6781... Val Loss: 1.6751\n",
      "Epoch: 5/20... Step: 660... Loss: 1.6589... Val Loss: 1.6633\n",
      "Epoch: 5/20... Step: 670... Loss: 1.6904... Val Loss: 1.6614\n",
      "Epoch: 5/20... Step: 680... Loss: 1.6847... Val Loss: 1.6523\n",
      "Epoch: 5/20... Step: 690... Loss: 1.6667... Val Loss: 1.6467\n",
      "Epoch: 6/20... Step: 700... Loss: 1.6648... Val Loss: 1.6393\n",
      "Epoch: 6/20... Step: 710... Loss: 1.6475... Val Loss: 1.6320\n",
      "Epoch: 6/20... Step: 720... Loss: 1.6276... Val Loss: 1.6256\n",
      "Epoch: 6/20... Step: 730... Loss: 1.6405... Val Loss: 1.6192\n",
      "Epoch: 6/20... Step: 740... Loss: 1.6117... Val Loss: 1.6142\n",
      "Epoch: 6/20... Step: 750... Loss: 1.5972... Val Loss: 1.6115\n",
      "Epoch: 6/20... Step: 760... Loss: 1.6338... Val Loss: 1.6016\n",
      "Epoch: 6/20... Step: 770... Loss: 1.6129... Val Loss: 1.6011\n",
      "Epoch: 6/20... Step: 780... Loss: 1.5953... Val Loss: 1.5933\n",
      "Epoch: 6/20... Step: 790... Loss: 1.5872... Val Loss: 1.5868\n",
      "Epoch: 6/20... Step: 800... Loss: 1.5980... Val Loss: 1.5811\n",
      "Epoch: 6/20... Step: 810... Loss: 1.5824... Val Loss: 1.5789\n",
      "Epoch: 6/20... Step: 820... Loss: 1.5523... Val Loss: 1.5739\n",
      "Epoch: 6/20... Step: 830... Loss: 1.5936... Val Loss: 1.5700\n",
      "Epoch: 7/20... Step: 840... Loss: 1.5534... Val Loss: 1.5677\n",
      "Epoch: 7/20... Step: 850... Loss: 1.5686... Val Loss: 1.5568\n",
      "Epoch: 7/20... Step: 860... Loss: 1.5473... Val Loss: 1.5538\n",
      "Epoch: 7/20... Step: 870... Loss: 1.5601... Val Loss: 1.5472\n",
      "Epoch: 7/20... Step: 880... Loss: 1.5624... Val Loss: 1.5464\n",
      "Epoch: 7/20... Step: 890... Loss: 1.5558... Val Loss: 1.5400\n",
      "Epoch: 7/20... Step: 900... Loss: 1.5410... Val Loss: 1.5366\n",
      "Epoch: 7/20... Step: 910... Loss: 1.5093... Val Loss: 1.5323\n",
      "Epoch: 7/20... Step: 920... Loss: 1.5310... Val Loss: 1.5321\n",
      "Epoch: 7/20... Step: 930... Loss: 1.5205... Val Loss: 1.5257\n",
      "Epoch: 7/20... Step: 940... Loss: 1.5222... Val Loss: 1.5262\n",
      "Epoch: 7/20... Step: 950... Loss: 1.5319... Val Loss: 1.5206\n",
      "Epoch: 7/20... Step: 960... Loss: 1.5379... Val Loss: 1.5144\n",
      "Epoch: 7/20... Step: 970... Loss: 1.5325... Val Loss: 1.5120\n",
      "Epoch: 8/20... Step: 980... Loss: 1.5055... Val Loss: 1.5055\n",
      "Epoch: 8/20... Step: 990... Loss: 1.5002... Val Loss: 1.5031\n",
      "Epoch: 8/20... Step: 1000... Loss: 1.4945... Val Loss: 1.5005\n",
      "Epoch: 8/20... Step: 1010... Loss: 1.5404... Val Loss: 1.4946\n",
      "Epoch: 8/20... Step: 1020... Loss: 1.5035... Val Loss: 1.4935\n",
      "Epoch: 8/20... Step: 1030... Loss: 1.4883... Val Loss: 1.4904\n",
      "Epoch: 8/20... Step: 1040... Loss: 1.4925... Val Loss: 1.4894\n",
      "Epoch: 8/20... Step: 1050... Loss: 1.4790... Val Loss: 1.4837\n",
      "Epoch: 8/20... Step: 1060... Loss: 1.4844... Val Loss: 1.4869\n",
      "Epoch: 8/20... Step: 1070... Loss: 1.4817... Val Loss: 1.4771\n",
      "Epoch: 8/20... Step: 1080... Loss: 1.4754... Val Loss: 1.4733\n",
      "Epoch: 8/20... Step: 1090... Loss: 1.4659... Val Loss: 1.4708\n",
      "Epoch: 8/20... Step: 1100... Loss: 1.4621... Val Loss: 1.4708\n",
      "Epoch: 8/20... Step: 1110... Loss: 1.4636... Val Loss: 1.4684\n",
      "Epoch: 9/20... Step: 1120... Loss: 1.4702... Val Loss: 1.4652\n",
      "Epoch: 9/20... Step: 1130... Loss: 1.4603... Val Loss: 1.4617\n",
      "Epoch: 9/20... Step: 1140... Loss: 1.4716... Val Loss: 1.4596\n",
      "Epoch: 9/20... Step: 1150... Loss: 1.4832... Val Loss: 1.4569\n",
      "Epoch: 9/20... Step: 1160... Loss: 1.4456... Val Loss: 1.4535\n",
      "Epoch: 9/20... Step: 1170... Loss: 1.4455... Val Loss: 1.4497\n",
      "Epoch: 9/20... Step: 1180... Loss: 1.4437... Val Loss: 1.4483\n",
      "Epoch: 9/20... Step: 1190... Loss: 1.4761... Val Loss: 1.4478\n",
      "Epoch: 9/20... Step: 1200... Loss: 1.4259... Val Loss: 1.4453\n",
      "Epoch: 9/20... Step: 1210... Loss: 1.4313... Val Loss: 1.4415\n",
      "Epoch: 9/20... Step: 1220... Loss: 1.4394... Val Loss: 1.4383\n",
      "Epoch: 9/20... Step: 1230... Loss: 1.4187... Val Loss: 1.4373\n",
      "Epoch: 9/20... Step: 1240... Loss: 1.4153... Val Loss: 1.4346\n",
      "Epoch: 9/20... Step: 1250... Loss: 1.4336... Val Loss: 1.4307\n",
      "Epoch: 10/20... Step: 1260... Loss: 1.4356... Val Loss: 1.4332\n",
      "Epoch: 10/20... Step: 1270... Loss: 1.4241... Val Loss: 1.4264\n",
      "Epoch: 10/20... Step: 1280... Loss: 1.4336... Val Loss: 1.4233\n",
      "Epoch: 10/20... Step: 1290... Loss: 1.4228... Val Loss: 1.4257\n",
      "Epoch: 10/20... Step: 1300... Loss: 1.4173... Val Loss: 1.4227\n",
      "Epoch: 10/20... Step: 1310... Loss: 1.4211... Val Loss: 1.4180\n",
      "Epoch: 10/20... Step: 1320... Loss: 1.3914... Val Loss: 1.4178\n",
      "Epoch: 10/20... Step: 1330... Loss: 1.4018... Val Loss: 1.4174\n",
      "Epoch: 10/20... Step: 1340... Loss: 1.3847... Val Loss: 1.4123\n"
     ]
    },
    {
     "name": "stdout",
     "output_type": "stream",
     "text": [
      "Epoch: 10/20... Step: 1350... Loss: 1.3750... Val Loss: 1.4126\n",
      "Epoch: 10/20... Step: 1360... Loss: 1.3859... Val Loss: 1.4101\n",
      "Epoch: 10/20... Step: 1370... Loss: 1.3841... Val Loss: 1.4095\n",
      "Epoch: 10/20... Step: 1380... Loss: 1.4105... Val Loss: 1.4064\n",
      "Epoch: 10/20... Step: 1390... Loss: 1.4259... Val Loss: 1.4057\n",
      "Epoch: 11/20... Step: 1400... Loss: 1.4195... Val Loss: 1.4031\n",
      "Epoch: 11/20... Step: 1410... Loss: 1.4336... Val Loss: 1.3998\n",
      "Epoch: 11/20... Step: 1420... Loss: 1.4190... Val Loss: 1.3951\n",
      "Epoch: 11/20... Step: 1430... Loss: 1.3865... Val Loss: 1.4009\n",
      "Epoch: 11/20... Step: 1440... Loss: 1.4193... Val Loss: 1.3977\n",
      "Epoch: 11/20... Step: 1450... Loss: 1.3513... Val Loss: 1.3946\n",
      "Epoch: 11/20... Step: 1460... Loss: 1.3694... Val Loss: 1.3906\n",
      "Epoch: 11/20... Step: 1470... Loss: 1.3533... Val Loss: 1.3940\n",
      "Epoch: 11/20... Step: 1480... Loss: 1.3832... Val Loss: 1.3880\n",
      "Epoch: 11/20... Step: 1490... Loss: 1.3704... Val Loss: 1.3897\n",
      "Epoch: 11/20... Step: 1500... Loss: 1.3546... Val Loss: 1.3882\n",
      "Epoch: 11/20... Step: 1510... Loss: 1.3385... Val Loss: 1.3857\n",
      "Epoch: 11/20... Step: 1520... Loss: 1.3770... Val Loss: 1.3839\n",
      "Epoch: 12/20... Step: 1530... Loss: 1.4304... Val Loss: 1.3851\n",
      "Epoch: 12/20... Step: 1540... Loss: 1.3815... Val Loss: 1.3824\n",
      "Epoch: 12/20... Step: 1550... Loss: 1.3861... Val Loss: 1.3788\n",
      "Epoch: 12/20... Step: 1560... Loss: 1.3895... Val Loss: 1.3770\n",
      "Epoch: 12/20... Step: 1570... Loss: 1.3444... Val Loss: 1.3753\n",
      "Epoch: 12/20... Step: 1580... Loss: 1.3150... Val Loss: 1.3774\n",
      "Epoch: 12/20... Step: 1590... Loss: 1.3245... Val Loss: 1.3732\n",
      "Epoch: 12/20... Step: 1600... Loss: 1.3456... Val Loss: 1.3737\n",
      "Epoch: 12/20... Step: 1610... Loss: 1.3398... Val Loss: 1.3754\n",
      "Epoch: 12/20... Step: 1620... Loss: 1.3315... Val Loss: 1.3711\n",
      "Epoch: 12/20... Step: 1630... Loss: 1.3641... Val Loss: 1.3699\n",
      "Epoch: 12/20... Step: 1640... Loss: 1.3454... Val Loss: 1.3717\n",
      "Epoch: 12/20... Step: 1650... Loss: 1.3134... Val Loss: 1.3684\n",
      "Epoch: 12/20... Step: 1660... Loss: 1.3770... Val Loss: 1.3669\n",
      "Epoch: 13/20... Step: 1670... Loss: 1.3418... Val Loss: 1.3672\n",
      "Epoch: 13/20... Step: 1680... Loss: 1.3362... Val Loss: 1.3616\n",
      "Epoch: 13/20... Step: 1690... Loss: 1.3314... Val Loss: 1.3586\n",
      "Epoch: 13/20... Step: 1700... Loss: 1.3369... Val Loss: 1.3609\n",
      "Epoch: 13/20... Step: 1710... Loss: 1.3122... Val Loss: 1.3603\n",
      "Epoch: 13/20... Step: 1720... Loss: 1.3233... Val Loss: 1.3621\n",
      "Epoch: 13/20... Step: 1730... Loss: 1.3610... Val Loss: 1.3550\n",
      "Epoch: 13/20... Step: 1740... Loss: 1.3295... Val Loss: 1.3559\n",
      "Epoch: 13/20... Step: 1750... Loss: 1.2888... Val Loss: 1.3614\n",
      "Epoch: 13/20... Step: 1760... Loss: 1.3183... Val Loss: 1.3526\n",
      "Epoch: 13/20... Step: 1770... Loss: 1.3445... Val Loss: 1.3542\n",
      "Epoch: 13/20... Step: 1780... Loss: 1.3114... Val Loss: 1.3539\n",
      "Epoch: 13/20... Step: 1790... Loss: 1.2991... Val Loss: 1.3539\n",
      "Epoch: 13/20... Step: 1800... Loss: 1.3280... Val Loss: 1.3515\n",
      "Epoch: 14/20... Step: 1810... Loss: 1.3317... Val Loss: 1.3526\n",
      "Epoch: 14/20... Step: 1820... Loss: 1.3151... Val Loss: 1.3495\n",
      "Epoch: 14/20... Step: 1830... Loss: 1.3349... Val Loss: 1.3414\n",
      "Epoch: 14/20... Step: 1840... Loss: 1.2825... Val Loss: 1.3485\n",
      "Epoch: 14/20... Step: 1850... Loss: 1.2632... Val Loss: 1.3454\n",
      "Epoch: 14/20... Step: 1860... Loss: 1.3197... Val Loss: 1.3453\n",
      "Epoch: 14/20... Step: 1870... Loss: 1.3303... Val Loss: 1.3432\n",
      "Epoch: 14/20... Step: 1880... Loss: 1.3148... Val Loss: 1.3425\n",
      "Epoch: 14/20... Step: 1890... Loss: 1.3321... Val Loss: 1.3452\n",
      "Epoch: 14/20... Step: 1900... Loss: 1.3158... Val Loss: 1.3415\n",
      "Epoch: 14/20... Step: 1910... Loss: 1.3065... Val Loss: 1.3405\n",
      "Epoch: 14/20... Step: 1920... Loss: 1.3080... Val Loss: 1.3406\n",
      "Epoch: 14/20... Step: 1930... Loss: 1.2746... Val Loss: 1.3427\n",
      "Epoch: 14/20... Step: 1940... Loss: 1.3393... Val Loss: 1.3373\n",
      "Epoch: 15/20... Step: 1950... Loss: 1.3016... Val Loss: 1.3440\n",
      "Epoch: 15/20... Step: 1960... Loss: 1.3043... Val Loss: 1.3353\n",
      "Epoch: 15/20... Step: 1970... Loss: 1.2936... Val Loss: 1.3324\n",
      "Epoch: 15/20... Step: 1980... Loss: 1.2834... Val Loss: 1.3379\n",
      "Epoch: 15/20... Step: 1990... Loss: 1.2857... Val Loss: 1.3331\n",
      "Epoch: 15/20... Step: 2000... Loss: 1.2657... Val Loss: 1.3326\n",
      "Epoch: 15/20... Step: 2010... Loss: 1.2968... Val Loss: 1.3302\n",
      "Epoch: 15/20... Step: 2020... Loss: 1.3114... Val Loss: 1.3311\n",
      "Epoch: 15/20... Step: 2030... Loss: 1.2768... Val Loss: 1.3329\n",
      "Epoch: 15/20... Step: 2040... Loss: 1.2952... Val Loss: 1.3292\n",
      "Epoch: 15/20... Step: 2050... Loss: 1.2739... Val Loss: 1.3238\n",
      "Epoch: 15/20... Step: 2060... Loss: 1.2860... Val Loss: 1.3272\n",
      "Epoch: 15/20... Step: 2070... Loss: 1.2985... Val Loss: 1.3285\n",
      "Epoch: 15/20... Step: 2080... Loss: 1.2866... Val Loss: 1.3222\n",
      "Epoch: 16/20... Step: 2090... Loss: 1.2951... Val Loss: 1.3255\n",
      "Epoch: 16/20... Step: 2100... Loss: 1.2767... Val Loss: 1.3236\n",
      "Epoch: 16/20... Step: 2110... Loss: 1.2683... Val Loss: 1.3180\n",
      "Epoch: 16/20... Step: 2120... Loss: 1.2842... Val Loss: 1.3250\n",
      "Epoch: 16/20... Step: 2130... Loss: 1.2654... Val Loss: 1.3224\n",
      "Epoch: 16/20... Step: 2140... Loss: 1.2734... Val Loss: 1.3217\n",
      "Epoch: 16/20... Step: 2150... Loss: 1.2956... Val Loss: 1.3203\n",
      "Epoch: 16/20... Step: 2160... Loss: 1.2739... Val Loss: 1.3216\n",
      "Epoch: 16/20... Step: 2170... Loss: 1.2729... Val Loss: 1.3181\n",
      "Epoch: 16/20... Step: 2180... Loss: 1.2640... Val Loss: 1.3175\n",
      "Epoch: 16/20... Step: 2190... Loss: 1.2847... Val Loss: 1.3186\n",
      "Epoch: 16/20... Step: 2200... Loss: 1.2725... Val Loss: 1.3145\n",
      "Epoch: 16/20... Step: 2210... Loss: 1.2326... Val Loss: 1.3160\n",
      "Epoch: 16/20... Step: 2220... Loss: 1.2688... Val Loss: 1.3154\n",
      "Epoch: 17/20... Step: 2230... Loss: 1.2576... Val Loss: 1.3104\n",
      "Epoch: 17/20... Step: 2240... Loss: 1.2726... Val Loss: 1.3120\n",
      "Epoch: 17/20... Step: 2250... Loss: 1.2469... Val Loss: 1.3162\n",
      "Epoch: 17/20... Step: 2260... Loss: 1.2596... Val Loss: 1.3151\n",
      "Epoch: 17/20... Step: 2270... Loss: 1.2768... Val Loss: 1.3132\n",
      "Epoch: 17/20... Step: 2280... Loss: 1.2759... Val Loss: 1.3131\n",
      "Epoch: 17/20... Step: 2290... Loss: 1.2705... Val Loss: 1.3121\n",
      "Epoch: 17/20... Step: 2300... Loss: 1.2350... Val Loss: 1.3084\n",
      "Epoch: 17/20... Step: 2310... Loss: 1.2644... Val Loss: 1.3079\n",
      "Epoch: 17/20... Step: 2320... Loss: 1.2535... Val Loss: 1.3054\n",
      "Epoch: 17/20... Step: 2330... Loss: 1.2468... Val Loss: 1.3061\n",
      "Epoch: 17/20... Step: 2340... Loss: 1.2668... Val Loss: 1.3062\n",
      "Epoch: 17/20... Step: 2350... Loss: 1.2639... Val Loss: 1.3080\n",
      "Epoch: 17/20... Step: 2360... Loss: 1.2737... Val Loss: 1.3068\n",
      "Epoch: 18/20... Step: 2370... Loss: 1.2500... Val Loss: 1.3054\n",
      "Epoch: 18/20... Step: 2380... Loss: 1.2479... Val Loss: 1.3086\n",
      "Epoch: 18/20... Step: 2390... Loss: 1.2559... Val Loss: 1.3036\n",
      "Epoch: 18/20... Step: 2400... Loss: 1.2701... Val Loss: 1.3042\n",
      "Epoch: 18/20... Step: 2410... Loss: 1.2789... Val Loss: 1.3041\n",
      "Epoch: 18/20... Step: 2420... Loss: 1.2469... Val Loss: 1.3023\n",
      "Epoch: 18/20... Step: 2430... Loss: 1.2620... Val Loss: 1.3048\n",
      "Epoch: 18/20... Step: 2440... Loss: 1.2464... Val Loss: 1.3025\n",
      "Epoch: 18/20... Step: 2450... Loss: 1.2355... Val Loss: 1.2998\n",
      "Epoch: 18/20... Step: 2460... Loss: 1.2556... Val Loss: 1.3014\n",
      "Epoch: 18/20... Step: 2470... Loss: 1.2545... Val Loss: 1.3015\n",
      "Epoch: 18/20... Step: 2480... Loss: 1.2429... Val Loss: 1.2998\n",
      "Epoch: 18/20... Step: 2490... Loss: 1.2297... Val Loss: 1.3004\n",
      "Epoch: 18/20... Step: 2500... Loss: 1.2301... Val Loss: 1.2997\n",
      "Epoch: 19/20... Step: 2510... Loss: 1.2406... Val Loss: 1.2964\n",
      "Epoch: 19/20... Step: 2520... Loss: 1.2588... Val Loss: 1.2971\n",
      "Epoch: 19/20... Step: 2530... Loss: 1.2639... Val Loss: 1.2971\n",
      "Epoch: 19/20... Step: 2540... Loss: 1.2685... Val Loss: 1.2967\n",
      "Epoch: 19/20... Step: 2550... Loss: 1.2350... Val Loss: 1.2959\n",
      "Epoch: 19/20... Step: 2560... Loss: 1.2402... Val Loss: 1.2962\n",
      "Epoch: 19/20... Step: 2570... Loss: 1.2358... Val Loss: 1.3018\n",
      "Epoch: 19/20... Step: 2580... Loss: 1.2622... Val Loss: 1.2991\n",
      "Epoch: 19/20... Step: 2590... Loss: 1.2305... Val Loss: 1.2962\n",
      "Epoch: 19/20... Step: 2600... Loss: 1.2208... Val Loss: 1.2954\n",
      "Epoch: 19/20... Step: 2610... Loss: 1.2372... Val Loss: 1.2936\n",
      "Epoch: 19/20... Step: 2620... Loss: 1.2094... Val Loss: 1.2938\n",
      "Epoch: 19/20... Step: 2630... Loss: 1.2215... Val Loss: 1.2926\n",
      "Epoch: 19/20... Step: 2640... Loss: 1.2377... Val Loss: 1.2923\n",
      "Epoch: 20/20... Step: 2650... Loss: 1.2326... Val Loss: 1.2901\n"
     ]
    },
    {
     "name": "stdout",
     "output_type": "stream",
     "text": [
      "Epoch: 20/20... Step: 2660... Loss: 1.2450... Val Loss: 1.2942\n",
      "Epoch: 20/20... Step: 2670... Loss: 1.2423... Val Loss: 1.2921\n",
      "Epoch: 20/20... Step: 2680... Loss: 1.2424... Val Loss: 1.2887\n",
      "Epoch: 20/20... Step: 2690... Loss: 1.2349... Val Loss: 1.2898\n",
      "Epoch: 20/20... Step: 2700... Loss: 1.2340... Val Loss: 1.2873\n",
      "Epoch: 20/20... Step: 2710... Loss: 1.2072... Val Loss: 1.2912\n",
      "Epoch: 20/20... Step: 2720... Loss: 1.2140... Val Loss: 1.2870\n",
      "Epoch: 20/20... Step: 2730... Loss: 1.2083... Val Loss: 1.2872\n",
      "Epoch: 20/20... Step: 2740... Loss: 1.2096... Val Loss: 1.2914\n",
      "Epoch: 20/20... Step: 2750... Loss: 1.2121... Val Loss: 1.2911\n",
      "Epoch: 20/20... Step: 2760... Loss: 1.2048... Val Loss: 1.2897\n",
      "Epoch: 20/20... Step: 2770... Loss: 1.2406... Val Loss: 1.2874\n",
      "Epoch: 20/20... Step: 2780... Loss: 1.2596... Val Loss: 1.2885\n"
     ]
    }
   ],
   "source": [
    "batch_size = 128\n",
    "seq_length = 100\n",
    "n_epochs = 20 # start small if you are just testing initial behavior\n",
    "\n",
    "# train the model\n",
    "train(net, encoded, epochs=n_epochs, batch_size=batch_size, seq_length=seq_length, lr=0.001, print_every=10)"
   ]
  },
  {
   "cell_type": "markdown",
   "metadata": {},
   "source": [
    "## Getting the best model\n",
    "\n",
    "To set your hyperparameters to get the best performance, you'll want to watch the training and validation losses. If your training loss is much lower than the validation loss, you're overfitting. Increase regularization (more dropout) or use a smaller network. If the training and validation losses are close, you're underfitting so you can increase the size of the network."
   ]
  },
  {
   "cell_type": "markdown",
   "metadata": {},
   "source": [
    "## Hyperparameters\n",
    "\n",
    "Here are the hyperparameters for the network.\n",
    "\n",
    "In defining the model:\n",
    "* `n_hidden` - The number of units in the hidden layers.\n",
    "* `n_layers` - Number of hidden LSTM layers to use.\n",
    "\n",
    "We assume that dropout probability and learning rate will be kept at the default, in this example.\n",
    "\n",
    "And in training:\n",
    "* `batch_size` - Number of sequences running through the network in one pass.\n",
    "* `seq_length` - Number of characters in the sequence the network is trained on. Larger is better typically, the network will learn more long range dependencies. But it takes longer to train. 100 is typically a good number here.\n",
    "* `lr` - Learning rate for training\n",
    "\n",
    "Here's some good advice from Andrej Karpathy on training the network. I'm going to copy it in here for your benefit, but also link to [where it originally came from](https://github.com/karpathy/char-rnn#tips-and-tricks).\n",
    "\n",
    "> ## Tips and Tricks\n",
    "\n",
    ">### Monitoring Validation Loss vs. Training Loss\n",
    ">If you're somewhat new to Machine Learning or Neural Networks it can take a bit of expertise to get good models. The most important quantity to keep track of is the difference between your training loss (printed during training) and the validation loss (printed once in a while when the RNN is run on the validation data (by default every 1000 iterations)). In particular:\n",
    "\n",
    "> - If your training loss is much lower than validation loss then this means the network might be **overfitting**. Solutions to this are to decrease your network size, or to increase dropout. For example you could try dropout of 0.5 and so on.\n",
    "> - If your training/validation loss are about equal then your model is **underfitting**. Increase the size of your model (either number of layers or the raw number of neurons per layer)\n",
    "\n",
    "> ### Approximate number of parameters\n",
    "\n",
    "> The two most important parameters that control the model are `n_hidden` and `n_layers`. I would advise that you always use `n_layers` of either 2/3. The `n_hidden` can be adjusted based on how much data you have. The two important quantities to keep track of here are:\n",
    "\n",
    "> - The number of parameters in your model. This is printed when you start training.\n",
    "> - The size of your dataset. 1MB file is approximately 1 million characters.\n",
    "\n",
    ">These two should be about the same order of magnitude. It's a little tricky to tell. Here are some examples:\n",
    "\n",
    "> - I have a 100MB dataset and I'm using the default parameter settings (which currently print 150K parameters). My data size is significantly larger (100 mil >> 0.15 mil), so I expect to heavily underfit. I am thinking I can comfortably afford to make `n_hidden` larger.\n",
    "> - I have a 10MB dataset and running a 10 million parameter model. I'm slightly nervous and I'm carefully monitoring my validation loss. If it's larger than my training loss then I may want to try to increase dropout a bit and see if that helps the validation loss.\n",
    "\n",
    "> ### Best models strategy\n",
    "\n",
    ">The winning strategy to obtaining very good models (if you have the compute time) is to always err on making the network larger (as large as you're willing to wait for it to compute) and then try different dropout values (between 0,1). Whatever model has the best validation performance (the loss, written in the checkpoint filename, low is good) is the one you should use in the end.\n",
    "\n",
    ">It is very common in deep learning to run many different models with many different hyperparameter settings, and in the end take whatever checkpoint gave the best validation performance.\n",
    "\n",
    ">By the way, the size of your training and validation splits are also parameters. Make sure you have a decent amount of data in your validation set or otherwise the validation performance will be noisy and not very informative."
   ]
  },
  {
   "cell_type": "markdown",
   "metadata": {},
   "source": [
    "## Checkpoint\n",
    "\n",
    "After training, we'll save the model so we can load it again later if we need too. Here I'm saving the parameters needed to create the same architecture, the hidden layer hyperparameters and the text characters."
   ]
  },
  {
   "cell_type": "code",
   "execution_count": 17,
   "metadata": {},
   "outputs": [],
   "source": [
    "# change the name, for saving multiple files\n",
    "model_name = 'rnn_x_epoch.net'\n",
    "\n",
    "checkpoint = {'n_hidden': net.n_hidden,\n",
    "              'n_layers': net.n_layers,\n",
    "              'state_dict': net.state_dict(),\n",
    "              'tokens': net.chars}\n",
    "\n",
    "with open(model_name, 'wb') as f:\n",
    "    torch.save(checkpoint, f)"
   ]
  },
  {
   "cell_type": "markdown",
   "metadata": {},
   "source": [
    "---\n",
    "## Making Predictions\n",
    "\n",
    "Now that the model is trained, we'll want to sample from it and make predictions about next characters! To sample, we pass in a character and have the network predict the next character. Then we take that character, pass it back in, and get another predicted character. Just keep doing this and you'll generate a bunch of text!\n",
    "\n",
    "### A note on the `predict`  function\n",
    "\n",
    "The output of our RNN is from a fully-connected layer and it outputs a **distribution of next-character scores**.\n",
    "\n",
    "> To actually get the next character, we apply a softmax function, which gives us a *probability* distribution that we can then sample to predict the next character.\n",
    "\n",
    "### Top K sampling\n",
    "\n",
    "Our predictions come from a categorical probability distribution over all the possible characters. We can make the sample text and make it more reasonable to handle (with less variables) by only considering some $K$ most probable characters. This will prevent the network from giving us completely absurd characters while allowing it to introduce some noise and randomness into the sampled text. Read more about [topk, here](https://pytorch.org/docs/stable/torch.html#torch.topk).\n"
   ]
  },
  {
   "cell_type": "code",
   "execution_count": 18,
   "metadata": {},
   "outputs": [],
   "source": [
    "def predict(net, char, h=None, top_k=None):\n",
    "        ''' Given a character, predict the next character.\n",
    "            Returns the predicted character and the hidden state.\n",
    "        '''\n",
    "        \n",
    "        # tensor inputs\n",
    "        x = np.array([[net.char2int[char]]])\n",
    "        x = one_hot_encode(x, len(net.chars))\n",
    "        inputs = torch.from_numpy(x)\n",
    "        \n",
    "        if(train_on_gpu):\n",
    "            inputs = inputs.cuda()\n",
    "        \n",
    "        # detach hidden state from history\n",
    "        h = tuple([each.data for each in h])\n",
    "        # get the output of the model\n",
    "        out, h = net(inputs, h)\n",
    "\n",
    "        # get the character probabilities\n",
    "        p = F.softmax(out, dim=1).data\n",
    "        if(train_on_gpu):\n",
    "            p = p.cpu() # move to cpu\n",
    "        \n",
    "        # get top characters\n",
    "        if top_k is None:\n",
    "            top_ch = np.arange(len(net.chars))\n",
    "        else:\n",
    "            p, top_ch = p.topk(top_k)\n",
    "            top_ch = top_ch.numpy().squeeze()\n",
    "        \n",
    "        # select the likely next character with some element of randomness\n",
    "        p = p.numpy().squeeze()\n",
    "        char = np.random.choice(top_ch, p=p/p.sum())\n",
    "        \n",
    "        # return the encoded value of the predicted char and the hidden state\n",
    "        return net.int2char[char], h"
   ]
  },
  {
   "cell_type": "markdown",
   "metadata": {},
   "source": [
    "### Priming and generating text \n",
    "\n",
    "Typically you'll want to prime the network so you can build up a hidden state. Otherwise the network will start out generating characters at random. In general the first bunch of characters will be a little rough since it hasn't built up a long history of characters to predict from."
   ]
  },
  {
   "cell_type": "code",
   "execution_count": 19,
   "metadata": {},
   "outputs": [],
   "source": [
    "def sample(net, size, prime='The', top_k=None):\n",
    "        \n",
    "    if(train_on_gpu):\n",
    "        net.cuda()\n",
    "    else:\n",
    "        net.cpu()\n",
    "    \n",
    "    net.eval() # eval mode\n",
    "    \n",
    "    # First off, run through the prime characters\n",
    "    chars = [ch for ch in prime]\n",
    "    h = net.init_hidden(1)\n",
    "    for ch in prime:\n",
    "        char, h = predict(net, ch, h, top_k=top_k)\n",
    "\n",
    "    chars.append(char)\n",
    "    \n",
    "    # Now pass in the previous character and get a new one\n",
    "    for ii in range(size):\n",
    "        char, h = predict(net, chars[-1], h, top_k=top_k)\n",
    "        chars.append(char)\n",
    "\n",
    "    return ''.join(chars)"
   ]
  },
  {
   "cell_type": "code",
   "execution_count": 20,
   "metadata": {},
   "outputs": [
    {
     "name": "stdout",
     "output_type": "stream",
     "text": [
      "Anna, that they were to be all the secretary. He did not know that in the such some of the\n",
      "country. The portrait of her stool on her\n",
      "handsemen at the princess her to conversation that this strange white hair wished at the same take of the same fix as she had not say to him would be done. But improped the children are strength, and he crowded to his head, that she wanted to go away; but she had\n",
      "been\n",
      "still as he saw that that they must had\n",
      "sat down to him to the point, and having his simply to set there of the conversation of a point with him. She saw a long while, and was in his hands\n",
      "were bought to see the charming,\n",
      "as she would break about the passion of the child, and so so that he were not thinking of him to their\n",
      "moment. She walked off into the princess.\n",
      "\n",
      "The country, the point were surmised in the steps.\n",
      "\n",
      "\"Yes, I don't bear suffering about. He's a chance of the marker of all about\n",
      "you.\" Stepan Arkadyevitch\n",
      "heard his\n",
      "brother, so said that he had thrust him, and to be a state, and that t\n"
     ]
    }
   ],
   "source": [
    "print(sample(net, 1000, prime='Anna', top_k=5))"
   ]
  },
  {
   "cell_type": "markdown",
   "metadata": {},
   "source": [
    "## Loading a checkpoint"
   ]
  },
  {
   "cell_type": "code",
   "execution_count": 21,
   "metadata": {},
   "outputs": [
    {
     "data": {
      "text/plain": [
       "<All keys matched successfully>"
      ]
     },
     "execution_count": 21,
     "metadata": {},
     "output_type": "execute_result"
    }
   ],
   "source": [
    "# Here we have loaded in a model that trained over 20 epochs `rnn_20_epoch.net`\n",
    "with open('rnn_x_epoch.net', 'rb') as f:\n",
    "    checkpoint = torch.load(f)\n",
    "    \n",
    "loaded = CharRNN(checkpoint['tokens'], n_hidden=checkpoint['n_hidden'], n_layers=checkpoint['n_layers'])\n",
    "loaded.load_state_dict(checkpoint['state_dict'])"
   ]
  },
  {
   "cell_type": "code",
   "execution_count": 22,
   "metadata": {},
   "outputs": [
    {
     "name": "stdout",
     "output_type": "stream",
     "text": [
      "And Levin said that there was to say, they went away, and was to say that she was to be tried but for the princess. There was not one of the\n",
      "meadow\n",
      "of some of the chairs and were nurned to be\n",
      "said, and she was at atarism, but he went at this moment, and that in\n",
      "that minute was on the fact, and he fallen away\n",
      "from\n",
      "his\n",
      "son, and soon faling him and the minutest of his son, the suppressed pleasure to say to him that his brother\n",
      "was touched in the carriage, and was the sorts\n",
      "of strings, and sat down between his brother as it was talking of his freedom and was now to call his husband. The sick deer was taken them and say that in successful too made in the position that that it\n",
      "was a comprised were broken to himself, but to\n",
      "be the conversation was the merchants. The side of conduct of the passestor, the\n",
      "station of the direction there was that in\n",
      "his\n",
      "wife that he had seen him as it all was the first signs to his wife, and he could not be satisfied with her and\n",
      "sense of the peasants of the sense of all his hands to his brother's waiting. His strength he was all the peasants that she\n",
      "could never stay a conversation was\n",
      "not feeling to be satisfied. This place, and thinking hid by her eyes, was to be to the\n",
      "passion that she was\n",
      "sitting at that think of that that he was a could show it, and he went on to see the simplicity, the procises in the clover out of her. She saw in the mornings, and stood now at that step he had never spoken the\n",
      "same sense.\n",
      "\n",
      "\"Well, I'm not getting in the stands which had been study to the sould before there's the\n",
      "mastar to\n",
      "be,\" said Stepan Arkadyevitch, with a chail. He would be\n",
      "at to speak of that wish and to be in\n",
      "his face; but the contention of her hair talked to her steps, standing with the money, with the princess had taken up her eyes and all\n",
      "that had natural to be so\n",
      "making that manner of tells a contemparion of all the\n",
      "storts of them and the plans\n",
      "of the doorway his steps of all he seemed to be set the seating to the corrading the service\n",
      "of an efforts was a mi\n"
     ]
    }
   ],
   "source": [
    "# Sample using a loaded model\n",
    "print(sample(loaded, 2000, top_k=5, prime=\"And Levin said\"))"
   ]
  },
  {
   "cell_type": "code",
   "execution_count": null,
   "metadata": {
    "collapsed": true
   },
   "outputs": [],
   "source": []
  }
 ],
 "metadata": {
  "kernelspec": {
   "display_name": "Python 3",
   "language": "python",
   "name": "python3"
  },
  "language_info": {
   "codemirror_mode": {
    "name": "ipython",
    "version": 3
   },
   "file_extension": ".py",
   "mimetype": "text/x-python",
   "name": "python",
   "nbconvert_exporter": "python",
   "pygments_lexer": "ipython3",
   "version": "3.6.10"
  }
 },
 "nbformat": 4,
 "nbformat_minor": 2
}
